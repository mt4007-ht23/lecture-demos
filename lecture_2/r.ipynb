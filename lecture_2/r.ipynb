{
 "cells": [
  {
   "cell_type": "code",
   "execution_count": 4,
   "id": "3fcdf698",
   "metadata": {},
   "outputs": [],
   "source": [
    "library(dplyr)"
   ]
  },
  {
   "cell_type": "code",
   "execution_count": 71,
   "id": "9760907e-85f3-4765-a7bd-633f39a2517a",
   "metadata": {},
   "outputs": [
    {
     "data": {
      "text/html": [
       "<table class=\"dataframe\">\n",
       "<caption>A data.frame: 5 × 8</caption>\n",
       "<thead>\n",
       "\t<tr><th></th><th scope=col>Country</th><th scope=col>Year</th><th scope=col>Gold</th><th scope=col>Silver</th><th scope=col>Bronze</th><th scope=col>Total</th><th scope=col>Country.Code</th><th scope=col>Population</th></tr>\n",
       "\t<tr><th></th><th scope=col>&lt;chr&gt;</th><th scope=col>&lt;int&gt;</th><th scope=col>&lt;int&gt;</th><th scope=col>&lt;int&gt;</th><th scope=col>&lt;int&gt;</th><th scope=col>&lt;int&gt;</th><th scope=col>&lt;chr&gt;</th><th scope=col>&lt;int&gt;</th></tr>\n",
       "</thead>\n",
       "<tbody>\n",
       "\t<tr><th scope=row>1</th><td>Australia</td><td>1994</td><td>0</td><td>0</td><td>1</td><td>1</td><td>AUS</td><td>17855000</td></tr>\n",
       "\t<tr><th scope=row>2</th><td>Australia</td><td>1998</td><td>0</td><td>0</td><td>1</td><td>1</td><td>AUS</td><td>18711000</td></tr>\n",
       "\t<tr><th scope=row>3</th><td>Australia</td><td>2002</td><td>2</td><td>0</td><td>0</td><td>2</td><td>AUS</td><td>19651400</td></tr>\n",
       "\t<tr><th scope=row>4</th><td>Australia</td><td>2006</td><td>1</td><td>0</td><td>1</td><td>2</td><td>AUS</td><td>20697900</td></tr>\n",
       "\t<tr><th scope=row>5</th><td>Australia</td><td>2010</td><td>2</td><td>1</td><td>0</td><td>3</td><td>AUS</td><td>22031750</td></tr>\n",
       "</tbody>\n",
       "</table>\n"
      ],
      "text/latex": [
       "A data.frame: 5 × 8\n",
       "\\begin{tabular}{r|llllllll}\n",
       "  & Country & Year & Gold & Silver & Bronze & Total & Country.Code & Population\\\\\n",
       "  & <chr> & <int> & <int> & <int> & <int> & <int> & <chr> & <int>\\\\\n",
       "\\hline\n",
       "\t1 & Australia & 1994 & 0 & 0 & 1 & 1 & AUS & 17855000\\\\\n",
       "\t2 & Australia & 1998 & 0 & 0 & 1 & 1 & AUS & 18711000\\\\\n",
       "\t3 & Australia & 2002 & 2 & 0 & 0 & 2 & AUS & 19651400\\\\\n",
       "\t4 & Australia & 2006 & 1 & 0 & 1 & 2 & AUS & 20697900\\\\\n",
       "\t5 & Australia & 2010 & 2 & 1 & 0 & 3 & AUS & 22031750\\\\\n",
       "\\end{tabular}\n"
      ],
      "text/markdown": [
       "\n",
       "A data.frame: 5 × 8\n",
       "\n",
       "| <!--/--> | Country &lt;chr&gt; | Year &lt;int&gt; | Gold &lt;int&gt; | Silver &lt;int&gt; | Bronze &lt;int&gt; | Total &lt;int&gt; | Country.Code &lt;chr&gt; | Population &lt;int&gt; |\n",
       "|---|---|---|---|---|---|---|---|---|\n",
       "| 1 | Australia | 1994 | 0 | 0 | 1 | 1 | AUS | 17855000 |\n",
       "| 2 | Australia | 1998 | 0 | 0 | 1 | 1 | AUS | 18711000 |\n",
       "| 3 | Australia | 2002 | 2 | 0 | 0 | 2 | AUS | 19651400 |\n",
       "| 4 | Australia | 2006 | 1 | 0 | 1 | 2 | AUS | 20697900 |\n",
       "| 5 | Australia | 2010 | 2 | 1 | 0 | 3 | AUS | 22031750 |\n",
       "\n"
      ],
      "text/plain": [
       "  Country   Year Gold Silver Bronze Total Country.Code Population\n",
       "1 Australia 1994 0    0      1      1     AUS          17855000  \n",
       "2 Australia 1998 0    0      1      1     AUS          18711000  \n",
       "3 Australia 2002 2    0      0      2     AUS          19651400  \n",
       "4 Australia 2006 1    0      1      2     AUS          20697900  \n",
       "5 Australia 2010 2    1      0      3     AUS          22031750  "
      ]
     },
     "metadata": {},
     "output_type": "display_data"
    }
   ],
   "source": [
    "data <- read.csv(\"../../data/Winter_medals2022-11-03.csv\") \n",
    "head(data, 5)"
   ]
  },
  {
   "cell_type": "code",
   "execution_count": 76,
   "id": "ff95ddc4-0c92-4081-a30f-f80cde7d14cb",
   "metadata": {},
   "outputs": [
    {
     "data": {
      "text/html": [
       "<table class=\"dataframe\">\n",
       "<caption>A data.frame: 5 × 4</caption>\n",
       "<thead>\n",
       "\t<tr><th></th><th scope=col>Country</th><th scope=col>Gold</th><th scope=col>Silver</th><th scope=col>Bronze</th></tr>\n",
       "\t<tr><th></th><th scope=col>&lt;chr&gt;</th><th scope=col>&lt;int&gt;</th><th scope=col>&lt;int&gt;</th><th scope=col>&lt;int&gt;</th></tr>\n",
       "</thead>\n",
       "<tbody>\n",
       "\t<tr><th scope=row>1</th><td>Australia</td><td>0</td><td>0</td><td>1</td></tr>\n",
       "\t<tr><th scope=row>2</th><td>Australia</td><td>0</td><td>0</td><td>1</td></tr>\n",
       "\t<tr><th scope=row>3</th><td>Australia</td><td>2</td><td>0</td><td>0</td></tr>\n",
       "\t<tr><th scope=row>4</th><td>Australia</td><td>1</td><td>0</td><td>1</td></tr>\n",
       "\t<tr><th scope=row>5</th><td>Australia</td><td>2</td><td>1</td><td>0</td></tr>\n",
       "</tbody>\n",
       "</table>\n"
      ],
      "text/latex": [
       "A data.frame: 5 × 4\n",
       "\\begin{tabular}{r|llll}\n",
       "  & Country & Gold & Silver & Bronze\\\\\n",
       "  & <chr> & <int> & <int> & <int>\\\\\n",
       "\\hline\n",
       "\t1 & Australia & 0 & 0 & 1\\\\\n",
       "\t2 & Australia & 0 & 0 & 1\\\\\n",
       "\t3 & Australia & 2 & 0 & 0\\\\\n",
       "\t4 & Australia & 1 & 0 & 1\\\\\n",
       "\t5 & Australia & 2 & 1 & 0\\\\\n",
       "\\end{tabular}\n"
      ],
      "text/markdown": [
       "\n",
       "A data.frame: 5 × 4\n",
       "\n",
       "| <!--/--> | Country &lt;chr&gt; | Gold &lt;int&gt; | Silver &lt;int&gt; | Bronze &lt;int&gt; |\n",
       "|---|---|---|---|---|\n",
       "| 1 | Australia | 0 | 0 | 1 |\n",
       "| 2 | Australia | 0 | 0 | 1 |\n",
       "| 3 | Australia | 2 | 0 | 0 |\n",
       "| 4 | Australia | 1 | 0 | 1 |\n",
       "| 5 | Australia | 2 | 1 | 0 |\n",
       "\n"
      ],
      "text/plain": [
       "  Country   Gold Silver Bronze\n",
       "1 Australia 0    0      1     \n",
       "2 Australia 0    0      1     \n",
       "3 Australia 2    0      0     \n",
       "4 Australia 1    0      1     \n",
       "5 Australia 2    1      0     "
      ]
     },
     "metadata": {},
     "output_type": "display_data"
    }
   ],
   "source": [
    "# SELECTING\n",
    "df <- data %>%\n",
    "    select(Country, Gold, Silver, Bronze)\n",
    "head(df,5)"
   ]
  },
  {
   "cell_type": "code",
   "execution_count": 77,
   "id": "4eebb981-6f39-4733-9263-46eeefc74fbc",
   "metadata": {},
   "outputs": [
    {
     "data": {
      "text/html": [
       "<table class=\"dataframe\">\n",
       "<caption>A tibble: 5 × 4</caption>\n",
       "<thead>\n",
       "\t<tr><th scope=col>Country</th><th scope=col>Gold</th><th scope=col>Silver</th><th scope=col>Bronze</th></tr>\n",
       "\t<tr><th scope=col>&lt;chr&gt;</th><th scope=col>&lt;int&gt;</th><th scope=col>&lt;int&gt;</th><th scope=col>&lt;int&gt;</th></tr>\n",
       "</thead>\n",
       "<tbody>\n",
       "\t<tr><td>Australia</td><td> 6</td><td> 9</td><td> 7</td></tr>\n",
       "\t<tr><td>Austria  </td><td>51</td><td>58</td><td>67</td></tr>\n",
       "\t<tr><td>Belarus  </td><td>10</td><td> 8</td><td> 5</td></tr>\n",
       "\t<tr><td>Belgium  </td><td> 1</td><td> 2</td><td> 2</td></tr>\n",
       "\t<tr><td>Bulgaria </td><td> 1</td><td> 2</td><td> 2</td></tr>\n",
       "</tbody>\n",
       "</table>\n"
      ],
      "text/latex": [
       "A tibble: 5 × 4\n",
       "\\begin{tabular}{llll}\n",
       " Country & Gold & Silver & Bronze\\\\\n",
       " <chr> & <int> & <int> & <int>\\\\\n",
       "\\hline\n",
       "\t Australia &  6 &  9 &  7\\\\\n",
       "\t Austria   & 51 & 58 & 67\\\\\n",
       "\t Belarus   & 10 &  8 &  5\\\\\n",
       "\t Belgium   &  1 &  2 &  2\\\\\n",
       "\t Bulgaria  &  1 &  2 &  2\\\\\n",
       "\\end{tabular}\n"
      ],
      "text/markdown": [
       "\n",
       "A tibble: 5 × 4\n",
       "\n",
       "| Country &lt;chr&gt; | Gold &lt;int&gt; | Silver &lt;int&gt; | Bronze &lt;int&gt; |\n",
       "|---|---|---|---|\n",
       "| Australia |  6 |  9 |  7 |\n",
       "| Austria   | 51 | 58 | 67 |\n",
       "| Belarus   | 10 |  8 |  5 |\n",
       "| Belgium   |  1 |  2 |  2 |\n",
       "| Bulgaria  |  1 |  2 |  2 |\n",
       "\n"
      ],
      "text/plain": [
       "  Country   Gold Silver Bronze\n",
       "1 Australia  6    9      7    \n",
       "2 Austria   51   58     67    \n",
       "3 Belarus   10    8      5    \n",
       "4 Belgium    1    2      2    \n",
       "5 Bulgaria   1    2      2    "
      ]
     },
     "metadata": {},
     "output_type": "display_data"
    }
   ],
   "source": [
    "# GROUPING\n",
    "df <- df %>%\n",
    "    group_by(Country) %>% \n",
    "    summarise(Gold = sum(Gold), Silver = sum(Silver), Bronze = sum(Bronze))\n",
    "\n",
    "head(df,5)"
   ]
  },
  {
   "cell_type": "code",
   "execution_count": 78,
   "id": "69bbddff-8a25-4eb2-a31f-6dd63fcb74c1",
   "metadata": {},
   "outputs": [
    {
     "data": {
      "text/html": [
       "<table class=\"dataframe\">\n",
       "<caption>A tibble: 5 × 5</caption>\n",
       "<thead>\n",
       "\t<tr><th scope=col>Country</th><th scope=col>Gold</th><th scope=col>Silver</th><th scope=col>Bronze</th><th scope=col>Total</th></tr>\n",
       "\t<tr><th scope=col>&lt;chr&gt;</th><th scope=col>&lt;int&gt;</th><th scope=col>&lt;int&gt;</th><th scope=col>&lt;int&gt;</th><th scope=col>&lt;int&gt;</th></tr>\n",
       "</thead>\n",
       "<tbody>\n",
       "\t<tr><td>Australia</td><td> 6</td><td> 9</td><td> 7</td><td> 22</td></tr>\n",
       "\t<tr><td>Austria  </td><td>51</td><td>58</td><td>67</td><td>176</td></tr>\n",
       "\t<tr><td>Belarus  </td><td>10</td><td> 8</td><td> 5</td><td> 23</td></tr>\n",
       "\t<tr><td>Belgium  </td><td> 1</td><td> 2</td><td> 2</td><td>  5</td></tr>\n",
       "\t<tr><td>Bulgaria </td><td> 1</td><td> 2</td><td> 2</td><td>  5</td></tr>\n",
       "</tbody>\n",
       "</table>\n"
      ],
      "text/latex": [
       "A tibble: 5 × 5\n",
       "\\begin{tabular}{lllll}\n",
       " Country & Gold & Silver & Bronze & Total\\\\\n",
       " <chr> & <int> & <int> & <int> & <int>\\\\\n",
       "\\hline\n",
       "\t Australia &  6 &  9 &  7 &  22\\\\\n",
       "\t Austria   & 51 & 58 & 67 & 176\\\\\n",
       "\t Belarus   & 10 &  8 &  5 &  23\\\\\n",
       "\t Belgium   &  1 &  2 &  2 &   5\\\\\n",
       "\t Bulgaria  &  1 &  2 &  2 &   5\\\\\n",
       "\\end{tabular}\n"
      ],
      "text/markdown": [
       "\n",
       "A tibble: 5 × 5\n",
       "\n",
       "| Country &lt;chr&gt; | Gold &lt;int&gt; | Silver &lt;int&gt; | Bronze &lt;int&gt; | Total &lt;int&gt; |\n",
       "|---|---|---|---|---|\n",
       "| Australia |  6 |  9 |  7 |  22 |\n",
       "| Austria   | 51 | 58 | 67 | 176 |\n",
       "| Belarus   | 10 |  8 |  5 |  23 |\n",
       "| Belgium   |  1 |  2 |  2 |   5 |\n",
       "| Bulgaria  |  1 |  2 |  2 |   5 |\n",
       "\n"
      ],
      "text/plain": [
       "  Country   Gold Silver Bronze Total\n",
       "1 Australia  6    9      7      22  \n",
       "2 Austria   51   58     67     176  \n",
       "3 Belarus   10    8      5      23  \n",
       "4 Belgium    1    2      2       5  \n",
       "5 Bulgaria   1    2      2       5  "
      ]
     },
     "metadata": {},
     "output_type": "display_data"
    }
   ],
   "source": [
    "# MUTATING\n",
    "df <- df %>%\n",
    "    mutate(Total = Gold + Silver + Bronze, .keep=\"all\")\n",
    "\n",
    "head(df, 5)"
   ]
  },
  {
   "cell_type": "code",
   "execution_count": 79,
   "id": "87e4fd21-8b08-48a7-b894-185c163648b9",
   "metadata": {},
   "outputs": [
    {
     "data": {
      "text/html": [
       "<table class=\"dataframe\">\n",
       "<caption>A tibble: 5 × 5</caption>\n",
       "<thead>\n",
       "\t<tr><th scope=col>Country</th><th scope=col>Gold</th><th scope=col>Silver</th><th scope=col>Bronze</th><th scope=col>Total</th></tr>\n",
       "\t<tr><th scope=col>&lt;chr&gt;</th><th scope=col>&lt;int&gt;</th><th scope=col>&lt;int&gt;</th><th scope=col>&lt;int&gt;</th><th scope=col>&lt;int&gt;</th></tr>\n",
       "</thead>\n",
       "<tbody>\n",
       "\t<tr><td>Canada       </td><td> 75</td><td> 70</td><td>71</td><td>216</td></tr>\n",
       "\t<tr><td>Germany      </td><td>123</td><td>117</td><td>75</td><td>315</td></tr>\n",
       "\t<tr><td>Norway       </td><td>108</td><td> 93</td><td>83</td><td>284</td></tr>\n",
       "\t<tr><td>Russia       </td><td> 57</td><td> 63</td><td>67</td><td>187</td></tr>\n",
       "\t<tr><td>United States</td><td> 82</td><td> 85</td><td>71</td><td>238</td></tr>\n",
       "</tbody>\n",
       "</table>\n"
      ],
      "text/latex": [
       "A tibble: 5 × 5\n",
       "\\begin{tabular}{lllll}\n",
       " Country & Gold & Silver & Bronze & Total\\\\\n",
       " <chr> & <int> & <int> & <int> & <int>\\\\\n",
       "\\hline\n",
       "\t Canada        &  75 &  70 & 71 & 216\\\\\n",
       "\t Germany       & 123 & 117 & 75 & 315\\\\\n",
       "\t Norway        & 108 &  93 & 83 & 284\\\\\n",
       "\t Russia        &  57 &  63 & 67 & 187\\\\\n",
       "\t United States &  82 &  85 & 71 & 238\\\\\n",
       "\\end{tabular}\n"
      ],
      "text/markdown": [
       "\n",
       "A tibble: 5 × 5\n",
       "\n",
       "| Country &lt;chr&gt; | Gold &lt;int&gt; | Silver &lt;int&gt; | Bronze &lt;int&gt; | Total &lt;int&gt; |\n",
       "|---|---|---|---|---|\n",
       "| Canada        |  75 |  70 | 71 | 216 |\n",
       "| Germany       | 123 | 117 | 75 | 315 |\n",
       "| Norway        | 108 |  93 | 83 | 284 |\n",
       "| Russia        |  57 |  63 | 67 | 187 |\n",
       "| United States |  82 |  85 | 71 | 238 |\n",
       "\n"
      ],
      "text/plain": [
       "  Country       Gold Silver Bronze Total\n",
       "1 Canada         75   70    71     216  \n",
       "2 Germany       123  117    75     315  \n",
       "3 Norway        108   93    83     284  \n",
       "4 Russia         57   63    67     187  \n",
       "5 United States  82   85    71     238  "
      ]
     },
     "metadata": {},
     "output_type": "display_data"
    }
   ],
   "source": [
    "# FILTERING\n",
    "# I only want to look att entries that have more gold medals than the mean + 2 standard devs.\n",
    "df <- df %>%\n",
    "    filter(Gold > (mean(Gold) + sd(Gold)))\n",
    "\n",
    "head(df, 5)"
   ]
  },
  {
   "cell_type": "code",
   "execution_count": 80,
   "id": "4217eb3a-2ff0-4aeb-a76e-9be30b8c5127",
   "metadata": {},
   "outputs": [
    {
     "data": {
      "text/html": [
       "<table class=\"dataframe\">\n",
       "<caption>A tibble: 5 × 5</caption>\n",
       "<thead>\n",
       "\t<tr><th scope=col>Country</th><th scope=col>Gold</th><th scope=col>Silver</th><th scope=col>Bronze</th><th scope=col>Total</th></tr>\n",
       "\t<tr><th scope=col>&lt;chr&gt;</th><th scope=col>&lt;int&gt;</th><th scope=col>&lt;int&gt;</th><th scope=col>&lt;int&gt;</th><th scope=col>&lt;int&gt;</th></tr>\n",
       "</thead>\n",
       "<tbody>\n",
       "\t<tr><td>Germany      </td><td>123</td><td>117</td><td>75</td><td>315</td></tr>\n",
       "\t<tr><td>Norway       </td><td>108</td><td> 93</td><td>83</td><td>284</td></tr>\n",
       "\t<tr><td>United States</td><td> 82</td><td> 85</td><td>71</td><td>238</td></tr>\n",
       "\t<tr><td>Canada       </td><td> 75</td><td> 70</td><td>71</td><td>216</td></tr>\n",
       "\t<tr><td>Russia       </td><td> 57</td><td> 63</td><td>67</td><td>187</td></tr>\n",
       "</tbody>\n",
       "</table>\n"
      ],
      "text/latex": [
       "A tibble: 5 × 5\n",
       "\\begin{tabular}{lllll}\n",
       " Country & Gold & Silver & Bronze & Total\\\\\n",
       " <chr> & <int> & <int> & <int> & <int>\\\\\n",
       "\\hline\n",
       "\t Germany       & 123 & 117 & 75 & 315\\\\\n",
       "\t Norway        & 108 &  93 & 83 & 284\\\\\n",
       "\t United States &  82 &  85 & 71 & 238\\\\\n",
       "\t Canada        &  75 &  70 & 71 & 216\\\\\n",
       "\t Russia        &  57 &  63 & 67 & 187\\\\\n",
       "\\end{tabular}\n"
      ],
      "text/markdown": [
       "\n",
       "A tibble: 5 × 5\n",
       "\n",
       "| Country &lt;chr&gt; | Gold &lt;int&gt; | Silver &lt;int&gt; | Bronze &lt;int&gt; | Total &lt;int&gt; |\n",
       "|---|---|---|---|---|\n",
       "| Germany       | 123 | 117 | 75 | 315 |\n",
       "| Norway        | 108 |  93 | 83 | 284 |\n",
       "| United States |  82 |  85 | 71 | 238 |\n",
       "| Canada        |  75 |  70 | 71 | 216 |\n",
       "| Russia        |  57 |  63 | 67 | 187 |\n",
       "\n"
      ],
      "text/plain": [
       "  Country       Gold Silver Bronze Total\n",
       "1 Germany       123  117    75     315  \n",
       "2 Norway        108   93    83     284  \n",
       "3 United States  82   85    71     238  \n",
       "4 Canada         75   70    71     216  \n",
       "5 Russia         57   63    67     187  "
      ]
     },
     "metadata": {},
     "output_type": "display_data"
    }
   ],
   "source": [
    "# SORTING\n",
    "df %>%\n",
    "    arrange(desc(Gold))"
   ]
  },
  {
   "cell_type": "code",
   "execution_count": 82,
   "id": "aeb1b225-f6f0-4894-99b4-38e202118f67",
   "metadata": {},
   "outputs": [
    {
     "data": {
      "text/html": [
       "<table class=\"dataframe\">\n",
       "<caption>A tibble: 5 × 5</caption>\n",
       "<thead>\n",
       "\t<tr><th scope=col>Country</th><th scope=col>Gold</th><th scope=col>Silver</th><th scope=col>Bronze</th><th scope=col>Total</th></tr>\n",
       "\t<tr><th scope=col>&lt;chr&gt;</th><th scope=col>&lt;int&gt;</th><th scope=col>&lt;int&gt;</th><th scope=col>&lt;int&gt;</th><th scope=col>&lt;int&gt;</th></tr>\n",
       "</thead>\n",
       "<tbody>\n",
       "\t<tr><td>Germany      </td><td>123</td><td>117</td><td>75</td><td>315</td></tr>\n",
       "\t<tr><td>Norway       </td><td>108</td><td> 93</td><td>83</td><td>284</td></tr>\n",
       "\t<tr><td>United States</td><td> 82</td><td> 85</td><td>71</td><td>238</td></tr>\n",
       "\t<tr><td>Canada       </td><td> 75</td><td> 70</td><td>71</td><td>216</td></tr>\n",
       "\t<tr><td>Russia       </td><td> 57</td><td> 63</td><td>67</td><td>187</td></tr>\n",
       "</tbody>\n",
       "</table>\n"
      ],
      "text/latex": [
       "A tibble: 5 × 5\n",
       "\\begin{tabular}{lllll}\n",
       " Country & Gold & Silver & Bronze & Total\\\\\n",
       " <chr> & <int> & <int> & <int> & <int>\\\\\n",
       "\\hline\n",
       "\t Germany       & 123 & 117 & 75 & 315\\\\\n",
       "\t Norway        & 108 &  93 & 83 & 284\\\\\n",
       "\t United States &  82 &  85 & 71 & 238\\\\\n",
       "\t Canada        &  75 &  70 & 71 & 216\\\\\n",
       "\t Russia        &  57 &  63 & 67 & 187\\\\\n",
       "\\end{tabular}\n"
      ],
      "text/markdown": [
       "\n",
       "A tibble: 5 × 5\n",
       "\n",
       "| Country &lt;chr&gt; | Gold &lt;int&gt; | Silver &lt;int&gt; | Bronze &lt;int&gt; | Total &lt;int&gt; |\n",
       "|---|---|---|---|---|\n",
       "| Germany       | 123 | 117 | 75 | 315 |\n",
       "| Norway        | 108 |  93 | 83 | 284 |\n",
       "| United States |  82 |  85 | 71 | 238 |\n",
       "| Canada        |  75 |  70 | 71 | 216 |\n",
       "| Russia        |  57 |  63 | 67 | 187 |\n",
       "\n"
      ],
      "text/plain": [
       "  Country       Gold Silver Bronze Total\n",
       "1 Germany       123  117    75     315  \n",
       "2 Norway        108   93    83     284  \n",
       "3 United States  82   85    71     238  \n",
       "4 Canada         75   70    71     216  \n",
       "5 Russia         57   63    67     187  "
      ]
     },
     "metadata": {},
     "output_type": "display_data"
    }
   ],
   "source": [
    "# COMPOSING it all together\n",
    "df <- data\n",
    "df %>%\n",
    "    select(Country, Gold, Silver, Bronze) %>%\n",
    "    group_by(Country) %>% \n",
    "    summarise(Gold = sum(Gold), Silver = sum(Silver), Bronze = sum(Bronze)) %>%\n",
    "    mutate(Total = Gold + Silver + Bronze, .keep=\"all\") %>%\n",
    "    filter(Gold > (mean(Gold) + sd(Gold))) %>% \n",
    "    arrange(desc(Gold))"
   ]
  }
 ],
 "metadata": {
  "kernelspec": {
   "display_name": "R",
   "language": "R",
   "name": "ir"
  },
  "language_info": {
   "codemirror_mode": "r",
   "file_extension": ".r",
   "mimetype": "text/x-r-source",
   "name": "R",
   "pygments_lexer": "r",
   "version": "4.1.3"
  }
 },
 "nbformat": 4,
 "nbformat_minor": 5
}
