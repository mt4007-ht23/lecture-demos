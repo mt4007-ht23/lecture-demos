{
 "cells": [
  {
   "cell_type": "code",
   "execution_count": 1,
   "id": "9d5c5a2f-a1ec-4b38-a659-469a69561cd2",
   "metadata": {},
   "outputs": [
    {
     "name": "stderr",
     "output_type": "stream",
     "text": [
      "── \u001b[1mAttaching core tidyverse packages\u001b[22m ──────────────────────────────────────────────────────────────────────────────────────────────────────────────────── tidyverse 2.0.0 ──\n",
      "\u001b[32m✔\u001b[39m \u001b[34mdplyr    \u001b[39m 1.1.2     \u001b[32m✔\u001b[39m \u001b[34mreadr    \u001b[39m 2.1.4\n",
      "\u001b[32m✔\u001b[39m \u001b[34mforcats  \u001b[39m 1.0.0     \u001b[32m✔\u001b[39m \u001b[34mstringr  \u001b[39m 1.5.0\n",
      "\u001b[32m✔\u001b[39m \u001b[34mggplot2  \u001b[39m 3.4.2     \u001b[32m✔\u001b[39m \u001b[34mtibble   \u001b[39m 3.2.1\n",
      "\u001b[32m✔\u001b[39m \u001b[34mlubridate\u001b[39m 1.9.2     \u001b[32m✔\u001b[39m \u001b[34mtidyr    \u001b[39m 1.3.0\n",
      "\u001b[32m✔\u001b[39m \u001b[34mpurrr    \u001b[39m 1.0.1     \n",
      "── \u001b[1mConflicts\u001b[22m ────────────────────────────────────────────────────────────────────────────────────────────────────────────────────────────────────── tidyverse_conflicts() ──\n",
      "\u001b[31m✖\u001b[39m \u001b[34mdplyr\u001b[39m::\u001b[32mfilter()\u001b[39m masks \u001b[34mstats\u001b[39m::filter()\n",
      "\u001b[31m✖\u001b[39m \u001b[34mdplyr\u001b[39m::\u001b[32mlag()\u001b[39m    masks \u001b[34mstats\u001b[39m::lag()\n",
      "\u001b[36mℹ\u001b[39m Use the conflicted package (\u001b[3m\u001b[34m<http://conflicted.r-lib.org/>\u001b[39m\u001b[23m) to force all conflicts to become errors\n"
     ]
    }
   ],
   "source": [
    "library(tidyverse)"
   ]
  },
  {
   "cell_type": "code",
   "execution_count": 2,
   "id": "21ee6a61-b9c6-449d-a545-c8fff7d4f651",
   "metadata": {},
   "outputs": [
    {
     "name": "stderr",
     "output_type": "stream",
     "text": [
      "\u001b[1mRows: \u001b[22m\u001b[34m249\u001b[39m \u001b[1mColumns: \u001b[22m\u001b[34m11\u001b[39m\n",
      "\u001b[36m──\u001b[39m \u001b[1mColumn specification\u001b[22m \u001b[36m────────────────────────────────────────────────────────────────────────────────────────────────────────────────────────────────────────────────────\u001b[39m\n",
      "\u001b[1mDelimiter:\u001b[22m \",\"\n",
      "\u001b[31mchr\u001b[39m (7): name, alpha-2, alpha-3, iso_3166-2, region, sub-region, intermediat...\n",
      "\u001b[32mdbl\u001b[39m (4): country-code, region-code, sub-region-code, intermediate-region-code\n",
      "\n",
      "\u001b[36mℹ\u001b[39m Use `spec()` to retrieve the full column specification for this data.\n",
      "\u001b[36mℹ\u001b[39m Specify the column types or set `show_col_types = FALSE` to quiet this message.\n",
      "\u001b[1mRows: \u001b[22m\u001b[34m216\u001b[39m \u001b[1mColumns: \u001b[22m\u001b[34m3\u001b[39m\n",
      "\u001b[36m──\u001b[39m \u001b[1mColumn specification\u001b[22m \u001b[36m────────────────────────────────────────────────────────────────────────────────────────────────────────────────────────────────────────────────────\u001b[39m\n",
      "\u001b[1mDelimiter:\u001b[22m \",\"\n",
      "\u001b[31mchr\u001b[39m (2): name, country-iso\n",
      "\u001b[32mdbl\u001b[39m (1): population-2022\n",
      "\n",
      "\u001b[36mℹ\u001b[39m Use `spec()` to retrieve the full column specification for this data.\n",
      "\u001b[36mℹ\u001b[39m Specify the column types or set `show_col_types = FALSE` to quiet this message.\n",
      "\u001b[1mRows: \u001b[22m\u001b[34m194\u001b[39m \u001b[1mColumns: \u001b[22m\u001b[34m3\u001b[39m\n",
      "\u001b[36m──\u001b[39m \u001b[1mColumn specification\u001b[22m \u001b[36m────────────────────────────────────────────────────────────────────────────────────────────────────────────────────────────────────────────────────\u001b[39m\n",
      "\u001b[1mDelimiter:\u001b[22m \",\"\n",
      "\u001b[31mchr\u001b[39m (1): country-iso\n",
      "\u001b[32mdbl\u001b[39m (2): confirmed, deaths\n",
      "\n",
      "\u001b[36mℹ\u001b[39m Use `spec()` to retrieve the full column specification for this data.\n",
      "\u001b[36mℹ\u001b[39m Specify the column types or set `show_col_types = FALSE` to quiet this message.\n"
     ]
    }
   ],
   "source": [
    "country <- read_csv(\"../../data/country_data.csv\")\n",
    "population <- read_csv(\"../../data/population2022.csv\")\n",
    "covid <- read_csv(\"../../data/covid.csv\")"
   ]
  },
  {
   "cell_type": "code",
   "execution_count": 5,
   "id": "d2c99a3b-3e83-40b3-a7e8-8b16e87208c3",
   "metadata": {},
   "outputs": [
    {
     "data": {
      "text/html": [
       "<table class=\"dataframe\">\n",
       "<caption>A tibble: 3 × 11</caption>\n",
       "<thead>\n",
       "\t<tr><th scope=col>name</th><th scope=col>alpha-2</th><th scope=col>alpha-3</th><th scope=col>country-code</th><th scope=col>iso_3166-2</th><th scope=col>region</th><th scope=col>sub-region</th><th scope=col>intermediate-region</th><th scope=col>region-code</th><th scope=col>sub-region-code</th><th scope=col>intermediate-region-code</th></tr>\n",
       "\t<tr><th scope=col>&lt;chr&gt;</th><th scope=col>&lt;chr&gt;</th><th scope=col>&lt;chr&gt;</th><th scope=col>&lt;dbl&gt;</th><th scope=col>&lt;chr&gt;</th><th scope=col>&lt;chr&gt;</th><th scope=col>&lt;chr&gt;</th><th scope=col>&lt;chr&gt;</th><th scope=col>&lt;dbl&gt;</th><th scope=col>&lt;dbl&gt;</th><th scope=col>&lt;dbl&gt;</th></tr>\n",
       "</thead>\n",
       "<tbody>\n",
       "\t<tr><td>Afghanistan  </td><td>AF</td><td>AFG</td><td>  4</td><td>ISO 3166-2:AF</td><td>Asia  </td><td>Southern Asia  </td><td>NA</td><td>142</td><td> 34</td><td>NA</td></tr>\n",
       "\t<tr><td>Åland Islands</td><td>AX</td><td>ALA</td><td>248</td><td>ISO 3166-2:AX</td><td>Europe</td><td>Northern Europe</td><td>NA</td><td>150</td><td>154</td><td>NA</td></tr>\n",
       "\t<tr><td>Albania      </td><td>AL</td><td>ALB</td><td>  8</td><td>ISO 3166-2:AL</td><td>Europe</td><td>Southern Europe</td><td>NA</td><td>150</td><td> 39</td><td>NA</td></tr>\n",
       "</tbody>\n",
       "</table>\n"
      ],
      "text/latex": [
       "A tibble: 3 × 11\n",
       "\\begin{tabular}{lllllllllll}\n",
       " name & alpha-2 & alpha-3 & country-code & iso\\_3166-2 & region & sub-region & intermediate-region & region-code & sub-region-code & intermediate-region-code\\\\\n",
       " <chr> & <chr> & <chr> & <dbl> & <chr> & <chr> & <chr> & <chr> & <dbl> & <dbl> & <dbl>\\\\\n",
       "\\hline\n",
       "\t Afghanistan   & AF & AFG &   4 & ISO 3166-2:AF & Asia   & Southern Asia   & NA & 142 &  34 & NA\\\\\n",
       "\t Åland Islands & AX & ALA & 248 & ISO 3166-2:AX & Europe & Northern Europe & NA & 150 & 154 & NA\\\\\n",
       "\t Albania       & AL & ALB &   8 & ISO 3166-2:AL & Europe & Southern Europe & NA & 150 &  39 & NA\\\\\n",
       "\\end{tabular}\n"
      ],
      "text/markdown": [
       "\n",
       "A tibble: 3 × 11\n",
       "\n",
       "| name &lt;chr&gt; | alpha-2 &lt;chr&gt; | alpha-3 &lt;chr&gt; | country-code &lt;dbl&gt; | iso_3166-2 &lt;chr&gt; | region &lt;chr&gt; | sub-region &lt;chr&gt; | intermediate-region &lt;chr&gt; | region-code &lt;dbl&gt; | sub-region-code &lt;dbl&gt; | intermediate-region-code &lt;dbl&gt; |\n",
       "|---|---|---|---|---|---|---|---|---|---|---|\n",
       "| Afghanistan   | AF | AFG |   4 | ISO 3166-2:AF | Asia   | Southern Asia   | NA | 142 |  34 | NA |\n",
       "| Åland Islands | AX | ALA | 248 | ISO 3166-2:AX | Europe | Northern Europe | NA | 150 | 154 | NA |\n",
       "| Albania       | AL | ALB |   8 | ISO 3166-2:AL | Europe | Southern Europe | NA | 150 |  39 | NA |\n",
       "\n"
      ],
      "text/plain": [
       "  name          alpha-2 alpha-3 country-code iso_3166-2    region\n",
       "1 Afghanistan   AF      AFG       4          ISO 3166-2:AF Asia  \n",
       "2 Åland Islands AX      ALA     248          ISO 3166-2:AX Europe\n",
       "3 Albania       AL      ALB       8          ISO 3166-2:AL Europe\n",
       "  sub-region      intermediate-region region-code sub-region-code\n",
       "1 Southern Asia   NA                  142          34            \n",
       "2 Northern Europe NA                  150         154            \n",
       "3 Southern Europe NA                  150          39            \n",
       "  intermediate-region-code\n",
       "1 NA                      \n",
       "2 NA                      \n",
       "3 NA                      "
      ]
     },
     "metadata": {},
     "output_type": "display_data"
    }
   ],
   "source": [
    "country |> head(3)"
   ]
  },
  {
   "cell_type": "code",
   "execution_count": 9,
   "id": "77dcdd05-45ae-460b-a612-f7a521b78b9d",
   "metadata": {},
   "outputs": [],
   "source": [
    "country <- country %>%\n",
    "        select(name, `alpha-3`, region, `sub-region`, `intermediate-region`)"
   ]
  },
  {
   "cell_type": "code",
   "execution_count": 24,
   "id": "21cb4c88-cd90-4388-b6d0-15b0ceb2405f",
   "metadata": {},
   "outputs": [
    {
     "data": {
      "text/html": [
       "<table class=\"dataframe\">\n",
       "<caption>A tibble: 5 × 5</caption>\n",
       "<thead>\n",
       "\t<tr><th scope=col>name</th><th scope=col>alpha-3</th><th scope=col>region</th><th scope=col>sub-region</th><th scope=col>intermediate-region</th></tr>\n",
       "\t<tr><th scope=col>&lt;chr&gt;</th><th scope=col>&lt;chr&gt;</th><th scope=col>&lt;chr&gt;</th><th scope=col>&lt;chr&gt;</th><th scope=col>&lt;chr&gt;</th></tr>\n",
       "</thead>\n",
       "<tbody>\n",
       "\t<tr><td>Afghanistan   </td><td>AFG</td><td>Asia   </td><td>Southern Asia  </td><td>NA</td></tr>\n",
       "\t<tr><td>Åland Islands </td><td>ALA</td><td>Europe </td><td>Northern Europe</td><td>NA</td></tr>\n",
       "\t<tr><td>Albania       </td><td>ALB</td><td>Europe </td><td>Southern Europe</td><td>NA</td></tr>\n",
       "\t<tr><td>Algeria       </td><td>DZA</td><td>Africa </td><td>Northern Africa</td><td>NA</td></tr>\n",
       "\t<tr><td>American Samoa</td><td>ASM</td><td>Oceania</td><td>Polynesia      </td><td>NA</td></tr>\n",
       "</tbody>\n",
       "</table>\n"
      ],
      "text/latex": [
       "A tibble: 5 × 5\n",
       "\\begin{tabular}{lllll}\n",
       " name & alpha-3 & region & sub-region & intermediate-region\\\\\n",
       " <chr> & <chr> & <chr> & <chr> & <chr>\\\\\n",
       "\\hline\n",
       "\t Afghanistan    & AFG & Asia    & Southern Asia   & NA\\\\\n",
       "\t Åland Islands  & ALA & Europe  & Northern Europe & NA\\\\\n",
       "\t Albania        & ALB & Europe  & Southern Europe & NA\\\\\n",
       "\t Algeria        & DZA & Africa  & Northern Africa & NA\\\\\n",
       "\t American Samoa & ASM & Oceania & Polynesia       & NA\\\\\n",
       "\\end{tabular}\n"
      ],
      "text/markdown": [
       "\n",
       "A tibble: 5 × 5\n",
       "\n",
       "| name &lt;chr&gt; | alpha-3 &lt;chr&gt; | region &lt;chr&gt; | sub-region &lt;chr&gt; | intermediate-region &lt;chr&gt; |\n",
       "|---|---|---|---|---|\n",
       "| Afghanistan    | AFG | Asia    | Southern Asia   | NA |\n",
       "| Åland Islands  | ALA | Europe  | Northern Europe | NA |\n",
       "| Albania        | ALB | Europe  | Southern Europe | NA |\n",
       "| Algeria        | DZA | Africa  | Northern Africa | NA |\n",
       "| American Samoa | ASM | Oceania | Polynesia       | NA |\n",
       "\n"
      ],
      "text/plain": [
       "  name           alpha-3 region  sub-region      intermediate-region\n",
       "1 Afghanistan    AFG     Asia    Southern Asia   NA                 \n",
       "2 Åland Islands  ALA     Europe  Northern Europe NA                 \n",
       "3 Albania        ALB     Europe  Southern Europe NA                 \n",
       "4 Algeria        DZA     Africa  Northern Africa NA                 \n",
       "5 American Samoa ASM     Oceania Polynesia       NA                 "
      ]
     },
     "metadata": {},
     "output_type": "display_data"
    }
   ],
   "source": [
    "country %>% filter_all(any_vars(is.na(.))) %>% head(5)"
   ]
  },
  {
   "cell_type": "code",
   "execution_count": 27,
   "id": "daab8e72-ef69-4d35-a199-fa21b031934e",
   "metadata": {},
   "outputs": [],
   "source": [
    "country <- country %>% \n",
    "            mutate(`intermediate-region`= coalesce(`intermediate-region`, `sub-region`))"
   ]
  },
  {
   "cell_type": "code",
   "execution_count": 28,
   "id": "e092959f-7a61-46f1-8870-8c4651f20ac8",
   "metadata": {},
   "outputs": [
    {
     "data": {
      "text/html": [
       "<table class=\"dataframe\">\n",
       "<caption>A tibble: 1 × 5</caption>\n",
       "<thead>\n",
       "\t<tr><th scope=col>name</th><th scope=col>alpha-3</th><th scope=col>region</th><th scope=col>sub-region</th><th scope=col>intermediate-region</th></tr>\n",
       "\t<tr><th scope=col>&lt;chr&gt;</th><th scope=col>&lt;chr&gt;</th><th scope=col>&lt;chr&gt;</th><th scope=col>&lt;chr&gt;</th><th scope=col>&lt;chr&gt;</th></tr>\n",
       "</thead>\n",
       "<tbody>\n",
       "\t<tr><td>Antarctica</td><td>ATA</td><td>NA</td><td>NA</td><td>NA</td></tr>\n",
       "</tbody>\n",
       "</table>\n"
      ],
      "text/latex": [
       "A tibble: 1 × 5\n",
       "\\begin{tabular}{lllll}\n",
       " name & alpha-3 & region & sub-region & intermediate-region\\\\\n",
       " <chr> & <chr> & <chr> & <chr> & <chr>\\\\\n",
       "\\hline\n",
       "\t Antarctica & ATA & NA & NA & NA\\\\\n",
       "\\end{tabular}\n"
      ],
      "text/markdown": [
       "\n",
       "A tibble: 1 × 5\n",
       "\n",
       "| name &lt;chr&gt; | alpha-3 &lt;chr&gt; | region &lt;chr&gt; | sub-region &lt;chr&gt; | intermediate-region &lt;chr&gt; |\n",
       "|---|---|---|---|---|\n",
       "| Antarctica | ATA | NA | NA | NA |\n",
       "\n"
      ],
      "text/plain": [
       "  name       alpha-3 region sub-region intermediate-region\n",
       "1 Antarctica ATA     NA     NA         NA                 "
      ]
     },
     "metadata": {},
     "output_type": "display_data"
    }
   ],
   "source": [
    "country %>% filter_all(any_vars(is.na(.))) %>% head(5)"
   ]
  },
  {
   "cell_type": "code",
   "execution_count": 30,
   "id": "528d5dfc-5173-4255-b71a-e8915db0af39",
   "metadata": {},
   "outputs": [],
   "source": [
    "country <- country %>% na.omit()"
   ]
  },
  {
   "cell_type": "code",
   "execution_count": 31,
   "id": "d0bb863f-ac1d-4177-b82a-bbc1cf204f68",
   "metadata": {},
   "outputs": [
    {
     "data": {
      "text/html": [
       "<table class=\"dataframe\">\n",
       "<caption>A tibble: 3 × 3</caption>\n",
       "<thead>\n",
       "\t<tr><th scope=col>name</th><th scope=col>country-iso</th><th scope=col>population-2022</th></tr>\n",
       "\t<tr><th scope=col>&lt;chr&gt;</th><th scope=col>&lt;chr&gt;</th><th scope=col>&lt;dbl&gt;</th></tr>\n",
       "</thead>\n",
       "<tbody>\n",
       "\t<tr><td>Aruba      </td><td>ABW</td><td>  107697</td></tr>\n",
       "\t<tr><td>Afghanistan</td><td>AFG</td><td>40683694</td></tr>\n",
       "\t<tr><td>Angola     </td><td>AGO</td><td>34907095</td></tr>\n",
       "</tbody>\n",
       "</table>\n"
      ],
      "text/latex": [
       "A tibble: 3 × 3\n",
       "\\begin{tabular}{lll}\n",
       " name & country-iso & population-2022\\\\\n",
       " <chr> & <chr> & <dbl>\\\\\n",
       "\\hline\n",
       "\t Aruba       & ABW &   107697\\\\\n",
       "\t Afghanistan & AFG & 40683694\\\\\n",
       "\t Angola      & AGO & 34907095\\\\\n",
       "\\end{tabular}\n"
      ],
      "text/markdown": [
       "\n",
       "A tibble: 3 × 3\n",
       "\n",
       "| name &lt;chr&gt; | country-iso &lt;chr&gt; | population-2022 &lt;dbl&gt; |\n",
       "|---|---|---|\n",
       "| Aruba       | ABW |   107697 |\n",
       "| Afghanistan | AFG | 40683694 |\n",
       "| Angola      | AGO | 34907095 |\n",
       "\n"
      ],
      "text/plain": [
       "  name        country-iso population-2022\n",
       "1 Aruba       ABW           107697       \n",
       "2 Afghanistan AFG         40683694       \n",
       "3 Angola      AGO         34907095       "
      ]
     },
     "metadata": {},
     "output_type": "display_data"
    }
   ],
   "source": [
    "population %>% head(3)"
   ]
  },
  {
   "cell_type": "code",
   "execution_count": 37,
   "id": "8028883e-a703-4652-ace5-16ac4a406ce5",
   "metadata": {},
   "outputs": [
    {
     "data": {
      "text/html": [
       "<table class=\"dataframe\">\n",
       "<caption>A tibble: 0 × 3</caption>\n",
       "<thead>\n",
       "\t<tr><th scope=col>name</th><th scope=col>country-iso</th><th scope=col>population-2022</th></tr>\n",
       "\t<tr><th scope=col>&lt;chr&gt;</th><th scope=col>&lt;chr&gt;</th><th scope=col>&lt;dbl&gt;</th></tr>\n",
       "</thead>\n",
       "<tbody>\n",
       "</tbody>\n",
       "</table>\n"
      ],
      "text/latex": [
       "A tibble: 0 × 3\n",
       "\\begin{tabular}{lll}\n",
       " name & country-iso & population-2022\\\\\n",
       " <chr> & <chr> & <dbl>\\\\\n",
       "\\hline\n",
       "\\end{tabular}\n"
      ],
      "text/markdown": [
       "\n",
       "A tibble: 0 × 3\n",
       "\n",
       "| name &lt;chr&gt; | country-iso &lt;chr&gt; | population-2022 &lt;dbl&gt; |\n",
       "|---|---|---|\n",
       "\n"
      ],
      "text/plain": [
       "     name country-iso population-2022"
      ]
     },
     "metadata": {},
     "output_type": "display_data"
    }
   ],
   "source": [
    "population %>% filter_all(any_vars(is.na(.))) %>% head(5)"
   ]
  },
  {
   "cell_type": "code",
   "execution_count": 6,
   "id": "bf22dd3c-ffe7-4311-a9d3-1c1e042f1137",
   "metadata": {},
   "outputs": [
    {
     "data": {
      "text/html": [
       "<div>\n",
       "<style scoped>\n",
       "    .dataframe tbody tr th:only-of-type {\n",
       "        vertical-align: middle;\n",
       "    }\n",
       "\n",
       "    .dataframe tbody tr th {\n",
       "        vertical-align: top;\n",
       "    }\n",
       "\n",
       "    .dataframe thead th {\n",
       "        text-align: right;\n",
       "    }\n",
       "</style>\n",
       "<table border=\"1\" class=\"dataframe\">\n",
       "  <thead>\n",
       "    <tr style=\"text-align: right;\">\n",
       "      <th></th>\n",
       "      <th>country-iso</th>\n",
       "      <th>confirmed</th>\n",
       "      <th>deaths</th>\n",
       "    </tr>\n",
       "  </thead>\n",
       "  <tbody>\n",
       "    <tr>\n",
       "      <th>0</th>\n",
       "      <td>AFG</td>\n",
       "      <td>208324</td>\n",
       "      <td>7872</td>\n",
       "    </tr>\n",
       "    <tr>\n",
       "      <th>1</th>\n",
       "      <td>AGO</td>\n",
       "      <td>105184</td>\n",
       "      <td>1931</td>\n",
       "    </tr>\n",
       "    <tr>\n",
       "      <th>2</th>\n",
       "      <td>ALB</td>\n",
       "      <td>334135</td>\n",
       "      <td>3596</td>\n",
       "    </tr>\n",
       "  </tbody>\n",
       "</table>\n",
       "</div>"
      ],
      "text/plain": [
       "  country-iso  confirmed  deaths\n",
       "0         AFG     208324    7872\n",
       "1         AGO     105184    1931\n",
       "2         ALB     334135    3596"
      ]
     },
     "execution_count": 6,
     "metadata": {},
     "output_type": "execute_result"
    }
   ],
   "source": [
    "covid.head(3)"
   ]
  },
  {
   "cell_type": "code",
   "execution_count": 38,
   "id": "5a541953-bdf3-436e-addb-1c69a30a587a",
   "metadata": {},
   "outputs": [
    {
     "data": {
      "text/html": [
       "<table class=\"dataframe\">\n",
       "<caption>A tibble: 0 × 3</caption>\n",
       "<thead>\n",
       "\t<tr><th scope=col>country-iso</th><th scope=col>confirmed</th><th scope=col>deaths</th></tr>\n",
       "\t<tr><th scope=col>&lt;chr&gt;</th><th scope=col>&lt;dbl&gt;</th><th scope=col>&lt;dbl&gt;</th></tr>\n",
       "</thead>\n",
       "<tbody>\n",
       "</tbody>\n",
       "</table>\n"
      ],
      "text/latex": [
       "A tibble: 0 × 3\n",
       "\\begin{tabular}{lll}\n",
       " country-iso & confirmed & deaths\\\\\n",
       " <chr> & <dbl> & <dbl>\\\\\n",
       "\\hline\n",
       "\\end{tabular}\n"
      ],
      "text/markdown": [
       "\n",
       "A tibble: 0 × 3\n",
       "\n",
       "| country-iso &lt;chr&gt; | confirmed &lt;dbl&gt; | deaths &lt;dbl&gt; |\n",
       "|---|---|---|\n",
       "\n"
      ],
      "text/plain": [
       "     country-iso confirmed deaths"
      ]
     },
     "metadata": {},
     "output_type": "display_data"
    }
   ],
   "source": [
    "covid %>% filter_all(any_vars(is.na(.))) %>% head(5)"
   ]
  },
  {
   "cell_type": "code",
   "execution_count": 46,
   "id": "f257ce4c-85e5-484a-a307-d6518b6b8a3e",
   "metadata": {},
   "outputs": [],
   "source": [
    "df <- country %>% full_join(population, join_by(`alpha-3` == `country-iso`))"
   ]
  },
  {
   "cell_type": "code",
   "execution_count": 54,
   "id": "9ff584df-9621-4338-b49e-fb5b033649f6",
   "metadata": {},
   "outputs": [],
   "source": [
    "df <- df %>% mutate(name= coalesce(`name.x`, `name.y`))"
   ]
  },
  {
   "cell_type": "code",
   "execution_count": 65,
   "id": "52324fa5-41fc-493e-9029-118e1db49883",
   "metadata": {},
   "outputs": [],
   "source": [
    "df <- df %>% full_join(covid, join_by(`alpha-3` == `country-iso`))"
   ]
  },
  {
   "cell_type": "code",
   "execution_count": 67,
   "id": "2892a595-d5f8-4e22-9a76-2bfec2201fe0",
   "metadata": {},
   "outputs": [
    {
     "data": {
      "text/html": [
       "<table class=\"dataframe\">\n",
       "<caption>A tibble: 5 × 10</caption>\n",
       "<thead>\n",
       "\t<tr><th scope=col>name.x</th><th scope=col>alpha-3</th><th scope=col>region</th><th scope=col>sub-region</th><th scope=col>intermediate-region</th><th scope=col>name.y</th><th scope=col>population-2022</th><th scope=col>name</th><th scope=col>confirmed</th><th scope=col>deaths</th></tr>\n",
       "\t<tr><th scope=col>&lt;chr&gt;</th><th scope=col>&lt;chr&gt;</th><th scope=col>&lt;chr&gt;</th><th scope=col>&lt;chr&gt;</th><th scope=col>&lt;chr&gt;</th><th scope=col>&lt;chr&gt;</th><th scope=col>&lt;dbl&gt;</th><th scope=col>&lt;chr&gt;</th><th scope=col>&lt;dbl&gt;</th><th scope=col>&lt;dbl&gt;</th></tr>\n",
       "</thead>\n",
       "<tbody>\n",
       "\t<tr><td>Afghanistan   </td><td>AFG</td><td>Asia   </td><td>Southern Asia  </td><td>Southern Asia  </td><td>Afghanistan   </td><td>40683694</td><td>Afghanistan   </td><td>208324</td><td>7872</td></tr>\n",
       "\t<tr><td>Åland Islands </td><td>ALA</td><td>Europe </td><td>Northern Europe</td><td>Northern Europe</td><td>NA            </td><td>      NA</td><td>Åland Islands </td><td>    NA</td><td>  NA</td></tr>\n",
       "\t<tr><td>Albania       </td><td>ALB</td><td>Europe </td><td>Southern Europe</td><td>Southern Europe</td><td>Albania       </td><td> 2812325</td><td>Albania       </td><td>334135</td><td>3596</td></tr>\n",
       "\t<tr><td>Algeria       </td><td>DZA</td><td>Africa </td><td>Northern Africa</td><td>Northern Africa</td><td>Algeria       </td><td>45486083</td><td>Algeria       </td><td>271364</td><td>6881</td></tr>\n",
       "\t<tr><td>American Samoa</td><td>ASM</td><td>Oceania</td><td>Polynesia      </td><td>Polynesia      </td><td>American Samoa</td><td>   54922</td><td>American Samoa</td><td>    NA</td><td>  NA</td></tr>\n",
       "</tbody>\n",
       "</table>\n"
      ],
      "text/latex": [
       "A tibble: 5 × 10\n",
       "\\begin{tabular}{llllllllll}\n",
       " name.x & alpha-3 & region & sub-region & intermediate-region & name.y & population-2022 & name & confirmed & deaths\\\\\n",
       " <chr> & <chr> & <chr> & <chr> & <chr> & <chr> & <dbl> & <chr> & <dbl> & <dbl>\\\\\n",
       "\\hline\n",
       "\t Afghanistan    & AFG & Asia    & Southern Asia   & Southern Asia   & Afghanistan    & 40683694 & Afghanistan    & 208324 & 7872\\\\\n",
       "\t Åland Islands  & ALA & Europe  & Northern Europe & Northern Europe & NA             &       NA & Åland Islands  &     NA &   NA\\\\\n",
       "\t Albania        & ALB & Europe  & Southern Europe & Southern Europe & Albania        &  2812325 & Albania        & 334135 & 3596\\\\\n",
       "\t Algeria        & DZA & Africa  & Northern Africa & Northern Africa & Algeria        & 45486083 & Algeria        & 271364 & 6881\\\\\n",
       "\t American Samoa & ASM & Oceania & Polynesia       & Polynesia       & American Samoa &    54922 & American Samoa &     NA &   NA\\\\\n",
       "\\end{tabular}\n"
      ],
      "text/markdown": [
       "\n",
       "A tibble: 5 × 10\n",
       "\n",
       "| name.x &lt;chr&gt; | alpha-3 &lt;chr&gt; | region &lt;chr&gt; | sub-region &lt;chr&gt; | intermediate-region &lt;chr&gt; | name.y &lt;chr&gt; | population-2022 &lt;dbl&gt; | name &lt;chr&gt; | confirmed &lt;dbl&gt; | deaths &lt;dbl&gt; |\n",
       "|---|---|---|---|---|---|---|---|---|---|\n",
       "| Afghanistan    | AFG | Asia    | Southern Asia   | Southern Asia   | Afghanistan    | 40683694 | Afghanistan    | 208324 | 7872 |\n",
       "| Åland Islands  | ALA | Europe  | Northern Europe | Northern Europe | NA             |       NA | Åland Islands  |     NA |   NA |\n",
       "| Albania        | ALB | Europe  | Southern Europe | Southern Europe | Albania        |  2812325 | Albania        | 334135 | 3596 |\n",
       "| Algeria        | DZA | Africa  | Northern Africa | Northern Africa | Algeria        | 45486083 | Algeria        | 271364 | 6881 |\n",
       "| American Samoa | ASM | Oceania | Polynesia       | Polynesia       | American Samoa |    54922 | American Samoa |     NA |   NA |\n",
       "\n"
      ],
      "text/plain": [
       "  name.x         alpha-3 region  sub-region      intermediate-region\n",
       "1 Afghanistan    AFG     Asia    Southern Asia   Southern Asia      \n",
       "2 Åland Islands  ALA     Europe  Northern Europe Northern Europe    \n",
       "3 Albania        ALB     Europe  Southern Europe Southern Europe    \n",
       "4 Algeria        DZA     Africa  Northern Africa Northern Africa    \n",
       "5 American Samoa ASM     Oceania Polynesia       Polynesia          \n",
       "  name.y         population-2022 name           confirmed deaths\n",
       "1 Afghanistan    40683694        Afghanistan    208324    7872  \n",
       "2 NA                   NA        Åland Islands      NA      NA  \n",
       "3 Albania         2812325        Albania        334135    3596  \n",
       "4 Algeria        45486083        Algeria        271364    6881  \n",
       "5 American Samoa    54922        American Samoa     NA      NA  "
      ]
     },
     "metadata": {},
     "output_type": "display_data"
    }
   ],
   "source": [
    "df %>% head(5)"
   ]
  },
  {
   "cell_type": "code",
   "execution_count": 69,
   "id": "0e75970a-653d-4701-8602-574f6622c6ec",
   "metadata": {},
   "outputs": [],
   "source": [
    "df <- df %>% select(-name.x, -name.y)"
   ]
  },
  {
   "cell_type": "code",
   "execution_count": 70,
   "id": "aca3265f-0fc5-46fb-9234-3f26f471c602",
   "metadata": {},
   "outputs": [],
   "source": [
    "df <- na.omit(df)"
   ]
  },
  {
   "cell_type": "code",
   "execution_count": 79,
   "id": "e7919ac5-01c7-4164-b922-8b294475fecc",
   "metadata": {},
   "outputs": [
    {
     "data": {
      "text/html": [
       "<table class=\"dataframe\">\n",
       "<caption>A tibble: 5 × 4</caption>\n",
       "<thead>\n",
       "\t<tr><th scope=col>region</th><th scope=col>deaths</th><th scope=col>confirmed</th><th scope=col>mr</th></tr>\n",
       "\t<tr><th scope=col>&lt;chr&gt;</th><th scope=col>&lt;dbl&gt;</th><th scope=col>&lt;dbl&gt;</th><th scope=col>&lt;dbl&gt;</th></tr>\n",
       "</thead>\n",
       "<tbody>\n",
       "\t<tr><td>Africa  </td><td> 257575</td><td> 12493329</td><td>2.0617003</td></tr>\n",
       "\t<tr><td>Americas</td><td>2913947</td><td>188273637</td><td>1.5477191</td></tr>\n",
       "\t<tr><td>Europe  </td><td>2018049</td><td>245894198</td><td>0.8206981</td></tr>\n",
       "\t<tr><td>Asia    </td><td>1589007</td><td>199796808</td><td>0.7953115</td></tr>\n",
       "\t<tr><td>Oceania </td><td>  22872</td><td> 13690976</td><td>0.1670589</td></tr>\n",
       "</tbody>\n",
       "</table>\n"
      ],
      "text/latex": [
       "A tibble: 5 × 4\n",
       "\\begin{tabular}{llll}\n",
       " region & deaths & confirmed & mr\\\\\n",
       " <chr> & <dbl> & <dbl> & <dbl>\\\\\n",
       "\\hline\n",
       "\t Africa   &  257575 &  12493329 & 2.0617003\\\\\n",
       "\t Americas & 2913947 & 188273637 & 1.5477191\\\\\n",
       "\t Europe   & 2018049 & 245894198 & 0.8206981\\\\\n",
       "\t Asia     & 1589007 & 199796808 & 0.7953115\\\\\n",
       "\t Oceania  &   22872 &  13690976 & 0.1670589\\\\\n",
       "\\end{tabular}\n"
      ],
      "text/markdown": [
       "\n",
       "A tibble: 5 × 4\n",
       "\n",
       "| region &lt;chr&gt; | deaths &lt;dbl&gt; | confirmed &lt;dbl&gt; | mr &lt;dbl&gt; |\n",
       "|---|---|---|---|\n",
       "| Africa   |  257575 |  12493329 | 2.0617003 |\n",
       "| Americas | 2913947 | 188273637 | 1.5477191 |\n",
       "| Europe   | 2018049 | 245894198 | 0.8206981 |\n",
       "| Asia     | 1589007 | 199796808 | 0.7953115 |\n",
       "| Oceania  |   22872 |  13690976 | 0.1670589 |\n",
       "\n"
      ],
      "text/plain": [
       "  region   deaths  confirmed mr       \n",
       "1 Africa    257575  12493329 2.0617003\n",
       "2 Americas 2913947 188273637 1.5477191\n",
       "3 Europe   2018049 245894198 0.8206981\n",
       "4 Asia     1589007 199796808 0.7953115\n",
       "5 Oceania    22872  13690976 0.1670589"
      ]
     },
     "metadata": {},
     "output_type": "display_data"
    }
   ],
   "source": [
    "df %>%\n",
    "    group_by(region) %>%\n",
    "    summarise(deaths=sum(deaths), confirmed=sum(confirmed), mr=100*deaths/confirmed) %>%\n",
    "    arrange(desc(mr))"
   ]
  },
  {
   "cell_type": "code",
   "execution_count": 80,
   "id": "13f6ee6e-955b-42b2-9c70-c60ddd7fccbc",
   "metadata": {},
   "outputs": [
    {
     "data": {
      "text/html": [
       "<table class=\"dataframe\">\n",
       "<caption>A tibble: 17 × 4</caption>\n",
       "<thead>\n",
       "\t<tr><th scope=col>sub-region</th><th scope=col>deaths</th><th scope=col>confirmed</th><th scope=col>mr</th></tr>\n",
       "\t<tr><th scope=col>&lt;chr&gt;</th><th scope=col>&lt;dbl&gt;</th><th scope=col>&lt;dbl&gt;</th><th scope=col>&lt;dbl&gt;</th></tr>\n",
       "</thead>\n",
       "<tbody>\n",
       "\t<tr><td>Northern Africa                </td><td>  88722</td><td>  3780382</td><td>2.3469057</td></tr>\n",
       "\t<tr><td>Latin America and the Caribbean</td><td>1755926</td><td> 81454030</td><td>2.1557264</td></tr>\n",
       "\t<tr><td>Sub-Saharan Africa             </td><td> 168853</td><td>  8712947</td><td>1.9379551</td></tr>\n",
       "\t<tr><td>Eastern Europe                 </td><td> 861204</td><td> 49311500</td><td>1.7464567</td></tr>\n",
       "\t<tr><td>Southern Asia                  </td><td> 772613</td><td> 57989569</td><td>1.3323310</td></tr>\n",
       "\t<tr><td>Central Asia                   </td><td>  23818</td><td>  1971023</td><td>1.2084080</td></tr>\n",
       "\t<tr><td>Melanesia                      </td><td>   1719</td><td>   152072</td><td>1.1303856</td></tr>\n",
       "\t<tr><td>Northern America               </td><td>1158021</td><td>106819607</td><td>1.0840903</td></tr>\n",
       "\t<tr><td>South-eastern Asia             </td><td> 365879</td><td> 35593936</td><td>1.0279251</td></tr>\n",
       "\t<tr><td>Southern Europe                </td><td> 441409</td><td> 56861826</td><td>0.7762835</td></tr>\n",
       "\t<tr><td>Northern Europe                </td><td> 290530</td><td> 38375525</td><td>0.7570711</td></tr>\n",
       "\t<tr><td>Western Asia                   </td><td> 233310</td><td> 35899583</td><td>0.6498961</td></tr>\n",
       "\t<tr><td>Western Europe                 </td><td> 424906</td><td>101345347</td><td>0.4192654</td></tr>\n",
       "\t<tr><td>Eastern Asia                   </td><td> 193387</td><td> 68342697</td><td>0.2829666</td></tr>\n",
       "\t<tr><td>Australia and New Zealand      </td><td>  21066</td><td> 13472253</td><td>0.1563658</td></tr>\n",
       "\t<tr><td>Micronesia                     </td><td>     45</td><td>    31152</td><td>0.1444530</td></tr>\n",
       "\t<tr><td>Polynesia                      </td><td>     42</td><td>    35499</td><td>0.1183132</td></tr>\n",
       "</tbody>\n",
       "</table>\n"
      ],
      "text/latex": [
       "A tibble: 17 × 4\n",
       "\\begin{tabular}{llll}\n",
       " sub-region & deaths & confirmed & mr\\\\\n",
       " <chr> & <dbl> & <dbl> & <dbl>\\\\\n",
       "\\hline\n",
       "\t Northern Africa                 &   88722 &   3780382 & 2.3469057\\\\\n",
       "\t Latin America and the Caribbean & 1755926 &  81454030 & 2.1557264\\\\\n",
       "\t Sub-Saharan Africa              &  168853 &   8712947 & 1.9379551\\\\\n",
       "\t Eastern Europe                  &  861204 &  49311500 & 1.7464567\\\\\n",
       "\t Southern Asia                   &  772613 &  57989569 & 1.3323310\\\\\n",
       "\t Central Asia                    &   23818 &   1971023 & 1.2084080\\\\\n",
       "\t Melanesia                       &    1719 &    152072 & 1.1303856\\\\\n",
       "\t Northern America                & 1158021 & 106819607 & 1.0840903\\\\\n",
       "\t South-eastern Asia              &  365879 &  35593936 & 1.0279251\\\\\n",
       "\t Southern Europe                 &  441409 &  56861826 & 0.7762835\\\\\n",
       "\t Northern Europe                 &  290530 &  38375525 & 0.7570711\\\\\n",
       "\t Western Asia                    &  233310 &  35899583 & 0.6498961\\\\\n",
       "\t Western Europe                  &  424906 & 101345347 & 0.4192654\\\\\n",
       "\t Eastern Asia                    &  193387 &  68342697 & 0.2829666\\\\\n",
       "\t Australia and New Zealand       &   21066 &  13472253 & 0.1563658\\\\\n",
       "\t Micronesia                      &      45 &     31152 & 0.1444530\\\\\n",
       "\t Polynesia                       &      42 &     35499 & 0.1183132\\\\\n",
       "\\end{tabular}\n"
      ],
      "text/markdown": [
       "\n",
       "A tibble: 17 × 4\n",
       "\n",
       "| sub-region &lt;chr&gt; | deaths &lt;dbl&gt; | confirmed &lt;dbl&gt; | mr &lt;dbl&gt; |\n",
       "|---|---|---|---|\n",
       "| Northern Africa                 |   88722 |   3780382 | 2.3469057 |\n",
       "| Latin America and the Caribbean | 1755926 |  81454030 | 2.1557264 |\n",
       "| Sub-Saharan Africa              |  168853 |   8712947 | 1.9379551 |\n",
       "| Eastern Europe                  |  861204 |  49311500 | 1.7464567 |\n",
       "| Southern Asia                   |  772613 |  57989569 | 1.3323310 |\n",
       "| Central Asia                    |   23818 |   1971023 | 1.2084080 |\n",
       "| Melanesia                       |    1719 |    152072 | 1.1303856 |\n",
       "| Northern America                | 1158021 | 106819607 | 1.0840903 |\n",
       "| South-eastern Asia              |  365879 |  35593936 | 1.0279251 |\n",
       "| Southern Europe                 |  441409 |  56861826 | 0.7762835 |\n",
       "| Northern Europe                 |  290530 |  38375525 | 0.7570711 |\n",
       "| Western Asia                    |  233310 |  35899583 | 0.6498961 |\n",
       "| Western Europe                  |  424906 | 101345347 | 0.4192654 |\n",
       "| Eastern Asia                    |  193387 |  68342697 | 0.2829666 |\n",
       "| Australia and New Zealand       |   21066 |  13472253 | 0.1563658 |\n",
       "| Micronesia                      |      45 |     31152 | 0.1444530 |\n",
       "| Polynesia                       |      42 |     35499 | 0.1183132 |\n",
       "\n"
      ],
      "text/plain": [
       "   sub-region                      deaths  confirmed mr       \n",
       "1  Northern Africa                   88722   3780382 2.3469057\n",
       "2  Latin America and the Caribbean 1755926  81454030 2.1557264\n",
       "3  Sub-Saharan Africa               168853   8712947 1.9379551\n",
       "4  Eastern Europe                   861204  49311500 1.7464567\n",
       "5  Southern Asia                    772613  57989569 1.3323310\n",
       "6  Central Asia                      23818   1971023 1.2084080\n",
       "7  Melanesia                          1719    152072 1.1303856\n",
       "8  Northern America                1158021 106819607 1.0840903\n",
       "9  South-eastern Asia               365879  35593936 1.0279251\n",
       "10 Southern Europe                  441409  56861826 0.7762835\n",
       "11 Northern Europe                  290530  38375525 0.7570711\n",
       "12 Western Asia                     233310  35899583 0.6498961\n",
       "13 Western Europe                   424906 101345347 0.4192654\n",
       "14 Eastern Asia                     193387  68342697 0.2829666\n",
       "15 Australia and New Zealand         21066  13472253 0.1563658\n",
       "16 Micronesia                           45     31152 0.1444530\n",
       "17 Polynesia                            42     35499 0.1183132"
      ]
     },
     "metadata": {},
     "output_type": "display_data"
    }
   ],
   "source": [
    "df %>%\n",
    "    group_by(`sub-region`) %>%\n",
    "    summarise(deaths=sum(deaths), confirmed=sum(confirmed), mr=100*deaths/confirmed) %>%\n",
    "    arrange(desc(mr))"
   ]
  },
  {
   "cell_type": "code",
   "execution_count": 81,
   "id": "01bb00f6-fa00-4eff-8438-6a54d4a9c5ce",
   "metadata": {},
   "outputs": [
    {
     "data": {
      "text/html": [
       "<table class=\"dataframe\">\n",
       "<caption>A tibble: 22 × 4</caption>\n",
       "<thead>\n",
       "\t<tr><th scope=col>intermediate-region</th><th scope=col>deaths</th><th scope=col>confirmed</th><th scope=col>mr</th></tr>\n",
       "\t<tr><th scope=col>&lt;chr&gt;</th><th scope=col>&lt;dbl&gt;</th><th scope=col>&lt;dbl&gt;</th><th scope=col>&lt;dbl&gt;</th></tr>\n",
       "</thead>\n",
       "<tbody>\n",
       "\t<tr><td>Central America          </td><td> 386115</td><td> 11549141</td><td>3.3432357</td></tr>\n",
       "\t<tr><td>Southern Africa          </td><td> 111621</td><td>  4663341</td><td>2.3935843</td></tr>\n",
       "\t<tr><td>Northern Africa          </td><td>  88722</td><td>  3780382</td><td>2.3469057</td></tr>\n",
       "\t<tr><td>South America            </td><td>1345798</td><td> 67523346</td><td>1.9930855</td></tr>\n",
       "\t<tr><td>Eastern Europe           </td><td> 861204</td><td> 49311500</td><td>1.7464567</td></tr>\n",
       "\t<tr><td>Middle Africa            </td><td>   6620</td><td>   445483</td><td>1.4860275</td></tr>\n",
       "\t<tr><td>Eastern Africa           </td><td>  38442</td><td>  2655549</td><td>1.4476103</td></tr>\n",
       "\t<tr><td>Southern Asia            </td><td> 772613</td><td> 57989569</td><td>1.3323310</td></tr>\n",
       "\t<tr><td>Western Africa           </td><td>  12170</td><td>   948574</td><td>1.2829784</td></tr>\n",
       "\t<tr><td>Central Asia             </td><td>  23818</td><td>  1971023</td><td>1.2084080</td></tr>\n",
       "\t<tr><td>Melanesia                </td><td>   1719</td><td>   152072</td><td>1.1303856</td></tr>\n",
       "\t<tr><td>Northern America         </td><td>1158021</td><td>106819607</td><td>1.0840903</td></tr>\n",
       "\t<tr><td>South-eastern Asia       </td><td> 365879</td><td> 35593936</td><td>1.0279251</td></tr>\n",
       "\t<tr><td>Caribbean                </td><td>  24013</td><td>  2381543</td><td>1.0082959</td></tr>\n",
       "\t<tr><td>Southern Europe          </td><td> 441409</td><td> 56861826</td><td>0.7762835</td></tr>\n",
       "\t<tr><td>Northern Europe          </td><td> 290530</td><td> 38375525</td><td>0.7570711</td></tr>\n",
       "\t<tr><td>Western Asia             </td><td> 233310</td><td> 35899583</td><td>0.6498961</td></tr>\n",
       "\t<tr><td>Western Europe           </td><td> 424906</td><td>101345347</td><td>0.4192654</td></tr>\n",
       "\t<tr><td>Eastern Asia             </td><td> 193387</td><td> 68342697</td><td>0.2829666</td></tr>\n",
       "\t<tr><td>Australia and New Zealand</td><td>  21066</td><td> 13472253</td><td>0.1563658</td></tr>\n",
       "\t<tr><td>Micronesia               </td><td>     45</td><td>    31152</td><td>0.1444530</td></tr>\n",
       "\t<tr><td>Polynesia                </td><td>     42</td><td>    35499</td><td>0.1183132</td></tr>\n",
       "</tbody>\n",
       "</table>\n"
      ],
      "text/latex": [
       "A tibble: 22 × 4\n",
       "\\begin{tabular}{llll}\n",
       " intermediate-region & deaths & confirmed & mr\\\\\n",
       " <chr> & <dbl> & <dbl> & <dbl>\\\\\n",
       "\\hline\n",
       "\t Central America           &  386115 &  11549141 & 3.3432357\\\\\n",
       "\t Southern Africa           &  111621 &   4663341 & 2.3935843\\\\\n",
       "\t Northern Africa           &   88722 &   3780382 & 2.3469057\\\\\n",
       "\t South America             & 1345798 &  67523346 & 1.9930855\\\\\n",
       "\t Eastern Europe            &  861204 &  49311500 & 1.7464567\\\\\n",
       "\t Middle Africa             &    6620 &    445483 & 1.4860275\\\\\n",
       "\t Eastern Africa            &   38442 &   2655549 & 1.4476103\\\\\n",
       "\t Southern Asia             &  772613 &  57989569 & 1.3323310\\\\\n",
       "\t Western Africa            &   12170 &    948574 & 1.2829784\\\\\n",
       "\t Central Asia              &   23818 &   1971023 & 1.2084080\\\\\n",
       "\t Melanesia                 &    1719 &    152072 & 1.1303856\\\\\n",
       "\t Northern America          & 1158021 & 106819607 & 1.0840903\\\\\n",
       "\t South-eastern Asia        &  365879 &  35593936 & 1.0279251\\\\\n",
       "\t Caribbean                 &   24013 &   2381543 & 1.0082959\\\\\n",
       "\t Southern Europe           &  441409 &  56861826 & 0.7762835\\\\\n",
       "\t Northern Europe           &  290530 &  38375525 & 0.7570711\\\\\n",
       "\t Western Asia              &  233310 &  35899583 & 0.6498961\\\\\n",
       "\t Western Europe            &  424906 & 101345347 & 0.4192654\\\\\n",
       "\t Eastern Asia              &  193387 &  68342697 & 0.2829666\\\\\n",
       "\t Australia and New Zealand &   21066 &  13472253 & 0.1563658\\\\\n",
       "\t Micronesia                &      45 &     31152 & 0.1444530\\\\\n",
       "\t Polynesia                 &      42 &     35499 & 0.1183132\\\\\n",
       "\\end{tabular}\n"
      ],
      "text/markdown": [
       "\n",
       "A tibble: 22 × 4\n",
       "\n",
       "| intermediate-region &lt;chr&gt; | deaths &lt;dbl&gt; | confirmed &lt;dbl&gt; | mr &lt;dbl&gt; |\n",
       "|---|---|---|---|\n",
       "| Central America           |  386115 |  11549141 | 3.3432357 |\n",
       "| Southern Africa           |  111621 |   4663341 | 2.3935843 |\n",
       "| Northern Africa           |   88722 |   3780382 | 2.3469057 |\n",
       "| South America             | 1345798 |  67523346 | 1.9930855 |\n",
       "| Eastern Europe            |  861204 |  49311500 | 1.7464567 |\n",
       "| Middle Africa             |    6620 |    445483 | 1.4860275 |\n",
       "| Eastern Africa            |   38442 |   2655549 | 1.4476103 |\n",
       "| Southern Asia             |  772613 |  57989569 | 1.3323310 |\n",
       "| Western Africa            |   12170 |    948574 | 1.2829784 |\n",
       "| Central Asia              |   23818 |   1971023 | 1.2084080 |\n",
       "| Melanesia                 |    1719 |    152072 | 1.1303856 |\n",
       "| Northern America          | 1158021 | 106819607 | 1.0840903 |\n",
       "| South-eastern Asia        |  365879 |  35593936 | 1.0279251 |\n",
       "| Caribbean                 |   24013 |   2381543 | 1.0082959 |\n",
       "| Southern Europe           |  441409 |  56861826 | 0.7762835 |\n",
       "| Northern Europe           |  290530 |  38375525 | 0.7570711 |\n",
       "| Western Asia              |  233310 |  35899583 | 0.6498961 |\n",
       "| Western Europe            |  424906 | 101345347 | 0.4192654 |\n",
       "| Eastern Asia              |  193387 |  68342697 | 0.2829666 |\n",
       "| Australia and New Zealand |   21066 |  13472253 | 0.1563658 |\n",
       "| Micronesia                |      45 |     31152 | 0.1444530 |\n",
       "| Polynesia                 |      42 |     35499 | 0.1183132 |\n",
       "\n"
      ],
      "text/plain": [
       "   intermediate-region       deaths  confirmed mr       \n",
       "1  Central America            386115  11549141 3.3432357\n",
       "2  Southern Africa            111621   4663341 2.3935843\n",
       "3  Northern Africa             88722   3780382 2.3469057\n",
       "4  South America             1345798  67523346 1.9930855\n",
       "5  Eastern Europe             861204  49311500 1.7464567\n",
       "6  Middle Africa                6620    445483 1.4860275\n",
       "7  Eastern Africa              38442   2655549 1.4476103\n",
       "8  Southern Asia              772613  57989569 1.3323310\n",
       "9  Western Africa              12170    948574 1.2829784\n",
       "10 Central Asia                23818   1971023 1.2084080\n",
       "11 Melanesia                    1719    152072 1.1303856\n",
       "12 Northern America          1158021 106819607 1.0840903\n",
       "13 South-eastern Asia         365879  35593936 1.0279251\n",
       "14 Caribbean                   24013   2381543 1.0082959\n",
       "15 Southern Europe            441409  56861826 0.7762835\n",
       "16 Northern Europe            290530  38375525 0.7570711\n",
       "17 Western Asia               233310  35899583 0.6498961\n",
       "18 Western Europe             424906 101345347 0.4192654\n",
       "19 Eastern Asia               193387  68342697 0.2829666\n",
       "20 Australia and New Zealand   21066  13472253 0.1563658\n",
       "21 Micronesia                     45     31152 0.1444530\n",
       "22 Polynesia                      42     35499 0.1183132"
      ]
     },
     "metadata": {},
     "output_type": "display_data"
    }
   ],
   "source": [
    "df %>%\n",
    "    group_by(`intermediate-region`) %>%\n",
    "    summarise(deaths=sum(deaths), confirmed=sum(confirmed), mr=100*deaths/confirmed) %>%\n",
    "    arrange(desc(mr))"
   ]
  },
  {
   "cell_type": "code",
   "execution_count": 104,
   "id": "30b2b48a-1d0c-4292-b23a-be55e711c6dc",
   "metadata": {},
   "outputs": [
    {
     "data": {
      "text/html": [
       "<div>\n",
       "<style scoped>\n",
       "    .dataframe tbody tr th:only-of-type {\n",
       "        vertical-align: middle;\n",
       "    }\n",
       "\n",
       "    .dataframe tbody tr th {\n",
       "        vertical-align: top;\n",
       "    }\n",
       "\n",
       "    .dataframe thead th {\n",
       "        text-align: right;\n",
       "    }\n",
       "</style>\n",
       "<table border=\"1\" class=\"dataframe\">\n",
       "  <thead>\n",
       "    <tr style=\"text-align: right;\">\n",
       "      <th></th>\n",
       "      <th>confirmed</th>\n",
       "      <th>population-2022</th>\n",
       "      <th>mr</th>\n",
       "    </tr>\n",
       "    <tr>\n",
       "      <th>region</th>\n",
       "      <th></th>\n",
       "      <th></th>\n",
       "      <th></th>\n",
       "    </tr>\n",
       "  </thead>\n",
       "  <tbody>\n",
       "    <tr>\n",
       "      <th>Europe</th>\n",
       "      <td>245894198.0</td>\n",
       "      <td>7.452442e+08</td>\n",
       "      <td>32.995117</td>\n",
       "    </tr>\n",
       "    <tr>\n",
       "      <th>Oceania</th>\n",
       "      <td>13690976.0</td>\n",
       "      <td>4.344141e+07</td>\n",
       "      <td>31.515955</td>\n",
       "    </tr>\n",
       "    <tr>\n",
       "      <th>Americas</th>\n",
       "      <td>188273637.0</td>\n",
       "      <td>1.031631e+09</td>\n",
       "      <td>18.250088</td>\n",
       "    </tr>\n",
       "    <tr>\n",
       "      <th>Asia</th>\n",
       "      <td>199796808.0</td>\n",
       "      <td>4.628024e+09</td>\n",
       "      <td>4.317108</td>\n",
       "    </tr>\n",
       "    <tr>\n",
       "      <th>Africa</th>\n",
       "      <td>12493329.0</td>\n",
       "      <td>1.403238e+09</td>\n",
       "      <td>0.890321</td>\n",
       "    </tr>\n",
       "  </tbody>\n",
       "</table>\n",
       "</div>"
      ],
      "text/plain": [
       "            confirmed  population-2022         mr\n",
       "region                                           \n",
       "Europe    245894198.0     7.452442e+08  32.995117\n",
       "Oceania    13690976.0     4.344141e+07  31.515955\n",
       "Americas  188273637.0     1.031631e+09  18.250088\n",
       "Asia      199796808.0     4.628024e+09   4.317108\n",
       "Africa     12493329.0     1.403238e+09   0.890321"
      ]
     },
     "execution_count": 104,
     "metadata": {},
     "output_type": "execute_result"
    }
   ],
   "source": [
    "r = df.groupby(\"region\")[[\"confirmed\", \"population-2022\"]].sum()\n",
    "r[\"mr\"] = 100*r[\"confirmed\"]/r[\"population-2022\"]\n",
    "r.sort_values(\"mr\", ascending=False)"
   ]
  },
  {
   "cell_type": "code",
   "execution_count": null,
   "id": "e8c243e0-13b2-43ff-ad67-bea662cd94a3",
   "metadata": {},
   "outputs": [],
   "source": []
  }
 ],
 "metadata": {
  "kernelspec": {
   "display_name": "R",
   "language": "R",
   "name": "ir"
  },
  "language_info": {
   "codemirror_mode": "r",
   "file_extension": ".r",
   "mimetype": "text/x-r-source",
   "name": "R",
   "pygments_lexer": "r",
   "version": "4.1.3"
  }
 },
 "nbformat": 4,
 "nbformat_minor": 5
}
