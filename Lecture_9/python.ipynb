{
 "cells": [
  {
   "cell_type": "code",
   "execution_count": 1,
   "id": "f448b886-d546-45d7-b497-bdb5a07327fc",
   "metadata": {},
   "outputs": [],
   "source": [
    "import requests"
   ]
  },
  {
   "cell_type": "code",
   "execution_count": 11,
   "id": "583d3f47-56c7-479b-bbc9-063f57caebfc",
   "metadata": {},
   "outputs": [],
   "source": [
    "UR\n",
    "\n",
    "res = requests.get(\"https://cloud.timeedit.net/su/web/stud1/s.json?tab=3&object=cevt_48182_HT2023&startDate=20230930&endDate=20240413&type=courseevent&h=t&l=en\")\n",
    "repos = res.json()"
   ]
  },
  {
   "cell_type": "code",
   "execution_count": 14,
   "id": "317978c0-6fba-42dd-8941-545157b618d1",
   "metadata": {},
   "outputs": [
    {
     "name": "stdout",
     "output_type": "stream",
     "text": [
      "mt4007-ht23.github.io\n",
      "SherinShabo\n",
      "tofsi\n",
      "taariqnazar\n",
      "real5535\n",
      "AntonPinet\n",
      "volleyp\n",
      "johangus65\n",
      "scr0-0ge\n",
      "egonapman\n",
      "Kostavelis\n",
      "Morris\n",
      "mareyrey\n",
      "AstonishedByTheLackOfCake\n",
      "rumeysaaytug\n",
      "molleh1877\n",
      "LIWU\n",
      "RobertAlgervik\n",
      "fyradur\n",
      "lectures\n",
      "vbacklin\n",
      "jaChatsky\n",
      "leofinnveden\n",
      "dloewenstein\n",
      "studiersuh23\n",
      "Georgii-Kimberg\n",
      "viggaa\n",
      "tildawd\n",
      "rhw99\n",
      "wiza2993\n",
      "data\n",
      "EmilioOJ\n",
      "maman-ahmed\n",
      "Rebjannik\n",
      "Croniii\n",
      "rogr83\n",
      "PR-Natpa333\n"
     ]
    }
   ],
   "source": [
    "for repo in repos:\n",
    "    print(repo[\"name\"])"
   ]
  },
  {
   "cell_type": "code",
   "execution_count": null,
   "id": "908e792c-fd8d-4eef-9f57-486fe1484207",
   "metadata": {},
   "outputs": [],
   "source": []
  }
 ],
 "metadata": {
  "kernelspec": {
   "display_name": "Python 3 (ipykernel)",
   "language": "python",
   "name": "python3"
  },
  "language_info": {
   "codemirror_mode": {
    "name": "ipython",
    "version": 3
   },
   "file_extension": ".py",
   "mimetype": "text/x-python",
   "name": "python",
   "nbconvert_exporter": "python",
   "pygments_lexer": "ipython3",
   "version": "3.12.0"
  }
 },
 "nbformat": 4,
 "nbformat_minor": 5
}
