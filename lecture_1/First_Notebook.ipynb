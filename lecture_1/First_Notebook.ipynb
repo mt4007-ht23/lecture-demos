{
 "cells": [
  {
   "cell_type": "code",
   "execution_count": 1,
   "id": "1bfe487b-d7fe-43e1-838f-4963ffebc71b",
   "metadata": {},
   "outputs": [],
   "source": [
    "import pandas as pd\n",
    "import numpy as np\n",
    "import matplotlib.pyplot as plt"
   ]
  },
  {
   "cell_type": "markdown",
   "id": "2c7464e4-b8cf-4dc7-9288-bd9006efff7b",
   "metadata": {},
   "source": [
    "# Data Analysis\n",
    "Here, I have created a dataset and plotted it!\n",
    "\n",
    "$$\n",
    "5+5 = 9\n",
    "$$"
   ]
  },
  {
   "cell_type": "code",
   "execution_count": 2,
   "id": "d1aea367-e4dc-4fa7-92a5-688084dcd64c",
   "metadata": {},
   "outputs": [],
   "source": [
    "X = np.random.normal(0,1, size=1000)"
   ]
  },
  {
   "cell_type": "code",
   "execution_count": 3,
   "id": "4785b0a4-ceb4-4f7f-84c5-915e89fb011e",
   "metadata": {},
   "outputs": [
    {
     "data": {
      "image/png": "[encoded data removed]",
      "text/plain": [
       "<Figure size 640x480 with 1 Axes>"
      ]
     },
     "metadata": {},
     "output_type": "display_data"
    }
   ],
   "source": [
    "_= plt.hist(X, bins=50)"
   ]
  },
  {
   "cell_type": "code",
   "execution_count": 4,
   "id": "365891da-adf9-47da-bef3-ed886b46b05b",
   "metadata": {},
   "outputs": [
    {
     "name": "stdout",
     "output_type": "stream",
     "text": [
      "[NbConvertApp] Converting notebook First_notebook.ipynb to markdown\n",
      "[NbConvertApp] Support files will be in First_notebook_files/\n",
      "[NbConvertApp] Making directory First_notebook_files\n",
      "[NbConvertApp] Writing 608 bytes to First_notebook.md\n"
     ]
    }
   ],
   "source": [
    "!jupyter nbconvert --to markdown First_notebook.ipynb"
   ]
  },
  {
   "cell_type": "code",
   "execution_count": null,
   "id": "413c2169-79f4-4e20-b0fc-250a39a0e330",
   "metadata": {},
   "outputs": [],
   "source": []
  }
 ],
 "metadata": {
  "kernelspec": {
   "display_name": "Python 3 (ipykernel)",
   "language": "python",
   "name": "python3"
  },
  "language_info": {
   "codemirror_mode": {
    "name": "ipython",
    "version": 3
   },
   "file_extension": ".py",
   "mimetype": "text/x-python",
   "name": "python",
   "nbconvert_exporter": "python",
   "pygments_lexer": "ipython3",
   "version": "3.12.0"
  }
 },
 "nbformat": 4,
 "nbformat_minor": 5
}
