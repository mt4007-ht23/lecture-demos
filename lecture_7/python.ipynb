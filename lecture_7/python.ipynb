{
 "cells": [
  {
   "cell_type": "code",
   "execution_count": 2,
   "id": "a5308d06-d976-4dac-9604-3a2db1a9fbe4",
   "metadata": {},
   "outputs": [],
   "source": [
    "import pandas as pd\n",
    "import sqlite3 as sql"
   ]
  },
  {
   "cell_type": "code",
   "execution_count": 17,
   "id": "f5eac4ef-17eb-43ef-98c1-a81fa50f020d",
   "metadata": {},
   "outputs": [],
   "source": [
    "conn = sql.connect(\"../../data/pokemon.sqlite\")"
   ]
  },
  {
   "cell_type": "code",
   "execution_count": 4,
   "id": "6bee28f9-e661-48bc-9097-a1c5ba6eb9f4",
   "metadata": {},
   "outputs": [],
   "source": [
    "cur = conn.cursor()"
   ]
  },
  {
   "cell_type": "code",
   "execution_count": 7,
   "id": "f62f43f7-f155-4d20-99eb-4f7568fd67d5",
   "metadata": {},
   "outputs": [
    {
     "data": {
      "text/plain": [
       "[('pokemon',), ('types',), ('pokemon_types',)]"
      ]
     },
     "execution_count": 7,
     "metadata": {},
     "output_type": "execute_result"
    }
   ],
   "source": [
    "tables = list(cur.execute(\"SELECT name FROM sqlite_master WHERE type='table';\"))\n",
    "\n",
    "tables"
   ]
  },
  {
   "cell_type": "code",
   "execution_count": 13,
   "id": "c71062df-5ac5-4354-b310-c6b2302846b9",
   "metadata": {},
   "outputs": [
    {
     "data": {
      "text/html": [
       "<div>\n",
       "<style scoped>\n",
       "    .dataframe tbody tr th:only-of-type {\n",
       "        vertical-align: middle;\n",
       "    }\n",
       "\n",
       "    .dataframe tbody tr th {\n",
       "        vertical-align: top;\n",
       "    }\n",
       "\n",
       "    .dataframe thead th {\n",
       "        text-align: right;\n",
       "    }\n",
       "</style>\n",
       "<table border=\"1\" class=\"dataframe\">\n",
       "  <thead>\n",
       "    <tr style=\"text-align: right;\">\n",
       "      <th></th>\n",
       "      <th>0</th>\n",
       "      <th>1</th>\n",
       "      <th>2</th>\n",
       "      <th>3</th>\n",
       "      <th>4</th>\n",
       "      <th>5</th>\n",
       "      <th>6</th>\n",
       "      <th>7</th>\n",
       "    </tr>\n",
       "  </thead>\n",
       "  <tbody>\n",
       "    <tr>\n",
       "      <th>0</th>\n",
       "      <td>1</td>\n",
       "      <td>bulbasaur</td>\n",
       "      <td>1</td>\n",
       "      <td>7</td>\n",
       "      <td>69</td>\n",
       "      <td>64</td>\n",
       "      <td>1</td>\n",
       "      <td>1</td>\n",
       "    </tr>\n",
       "    <tr>\n",
       "      <th>1</th>\n",
       "      <td>2</td>\n",
       "      <td>ivysaur</td>\n",
       "      <td>2</td>\n",
       "      <td>10</td>\n",
       "      <td>130</td>\n",
       "      <td>142</td>\n",
       "      <td>2</td>\n",
       "      <td>1</td>\n",
       "    </tr>\n",
       "    <tr>\n",
       "      <th>2</th>\n",
       "      <td>3</td>\n",
       "      <td>venusaur</td>\n",
       "      <td>3</td>\n",
       "      <td>20</td>\n",
       "      <td>1000</td>\n",
       "      <td>236</td>\n",
       "      <td>3</td>\n",
       "      <td>1</td>\n",
       "    </tr>\n",
       "    <tr>\n",
       "      <th>3</th>\n",
       "      <td>4</td>\n",
       "      <td>charmander</td>\n",
       "      <td>4</td>\n",
       "      <td>6</td>\n",
       "      <td>85</td>\n",
       "      <td>62</td>\n",
       "      <td>5</td>\n",
       "      <td>1</td>\n",
       "    </tr>\n",
       "    <tr>\n",
       "      <th>4</th>\n",
       "      <td>5</td>\n",
       "      <td>charmeleon</td>\n",
       "      <td>5</td>\n",
       "      <td>11</td>\n",
       "      <td>190</td>\n",
       "      <td>142</td>\n",
       "      <td>6</td>\n",
       "      <td>1</td>\n",
       "    </tr>\n",
       "  </tbody>\n",
       "</table>\n",
       "</div>"
      ],
      "text/plain": [
       "   0           1  2   3     4    5  6  7\n",
       "0  1   bulbasaur  1   7    69   64  1  1\n",
       "1  2     ivysaur  2  10   130  142  2  1\n",
       "2  3    venusaur  3  20  1000  236  3  1\n",
       "3  4  charmander  4   6    85   62  5  1\n",
       "4  5  charmeleon  5  11   190  142  6  1"
      ]
     },
     "execution_count": 13,
     "metadata": {},
     "output_type": "execute_result"
    }
   ],
   "source": [
    "query = \"SELECT * FROM pokemon;\"\n",
    "pokemon = list(cur.execute(query))\n",
    "cur.close()\n",
    "\n",
    "pokemon = pd.DataFrame(pokemon)\n",
    "\n",
    "pokemon.head(5)"
   ]
  },
  {
   "cell_type": "code",
   "execution_count": 23,
   "id": "3be9f2ef-c09a-4bf4-8bee-2af8bcf632e9",
   "metadata": {},
   "outputs": [
    {
     "data": {
      "text/plain": [
       "[(0, 'id', 'INTEGER', 0, None, 0),\n",
       " (1, 'identifier', 'TEXT', 0, None, 0),\n",
       " (2, 'species_id', 'INTEGER', 0, None, 0),\n",
       " (3, 'height', 'INTEGER', 0, None, 0),\n",
       " (4, 'weight', 'INTEGER', 0, None, 0),\n",
       " (5, 'base_experience', 'INTEGER', 0, None, 0),\n",
       " (6, 'order', 'INTEGER', 0, None, 0),\n",
       " (7, 'is_default', 'INTEGER', 0, None, 0)]"
      ]
     },
     "execution_count": 23,
     "metadata": {},
     "output_type": "execute_result"
    }
   ],
   "source": [
    "cur = conn.cursor()\n",
    "\n",
    "list(cur.execute(\"PRAGMA table_info(pokemon);\"))"
   ]
  },
  {
   "cell_type": "code",
   "execution_count": 15,
   "id": "a9d4967e-1a3b-4605-bf90-454af7906a13",
   "metadata": {},
   "outputs": [],
   "source": [
    "conn.close()"
   ]
  }
 ],
 "metadata": {
  "kernelspec": {
   "display_name": "Python 3 (ipykernel)",
   "language": "python",
   "name": "python3"
  },
  "language_info": {
   "codemirror_mode": {
    "name": "ipython",
    "version": 3
   },
   "file_extension": ".py",
   "mimetype": "text/x-python",
   "name": "python",
   "nbconvert_exporter": "python",
   "pygments_lexer": "ipython3",
   "version": "3.12.0"
  }
 },
 "nbformat": 4,
 "nbformat_minor": 5
}
