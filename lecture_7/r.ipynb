{
 "cells": [
  {
   "cell_type": "code",
   "execution_count": 9,
   "id": "e965399f-c43d-45b1-9ac2-17773ea758c8",
   "metadata": {},
   "outputs": [],
   "source": [
    "library(dbplyr)"
   ]
  },
  {
   "cell_type": "code",
   "execution_count": 10,
   "id": "cd653e70-a3ae-49a1-b0e9-11a95a8f2d5d",
   "metadata": {},
   "outputs": [],
   "source": [
    "install.packages(\"RSQLite\")\n",
    "library(\"RSQLite\")"
   ]
  },
  {
   "cell_type": "code",
   "execution_count": 14,
   "id": "4b01a424-ff64-4c2a-8b58-a54a990b13ea",
   "metadata": {},
   "outputs": [],
   "source": [
    "con <- DBI::dbConnect(RSQLite::SQLite(), dbname = \"..//..//data/pokemon.sqlite\")"
   ]
  },
  {
   "cell_type": "code",
   "execution_count": 15,
   "id": "cfd95447-7805-45b6-b931-d1ad87dc5c23",
   "metadata": {},
   "outputs": [
    {
     "name": "stdout",
     "output_type": "stream",
     "text": [
      "           name\n",
      "1       pokemon\n",
      "2         types\n",
      "3 pokemon_types\n"
     ]
    }
   ],
   "source": [
    "query <- \"SELECT name FROM sqlite_master WHERE type='table';\"\n",
    "result <- dbGetQuery(con, query)\n",
    "\n",
    "# Display the results\n",
    "print(result)"
   ]
  },
  {
   "cell_type": "code",
   "execution_count": 19,
   "id": "c71062df-5ac5-4354-b310-c6b2302846b9",
   "metadata": {},
   "outputs": [
    {
     "data": {
      "text/html": [
       "<table class=\"dataframe\">\n",
       "<caption>A data.frame: 5 × 8</caption>\n",
       "<thead>\n",
       "\t<tr><th></th><th scope=col>id</th><th scope=col>identifier</th><th scope=col>species_id</th><th scope=col>height</th><th scope=col>weight</th><th scope=col>base_experience</th><th scope=col>order</th><th scope=col>is_default</th></tr>\n",
       "\t<tr><th></th><th scope=col>&lt;int&gt;</th><th scope=col>&lt;chr&gt;</th><th scope=col>&lt;int&gt;</th><th scope=col>&lt;int&gt;</th><th scope=col>&lt;int&gt;</th><th scope=col>&lt;int&gt;</th><th scope=col>&lt;int&gt;</th><th scope=col>&lt;int&gt;</th></tr>\n",
       "</thead>\n",
       "<tbody>\n",
       "\t<tr><th scope=row>1</th><td>1</td><td>bulbasaur </td><td>1</td><td> 7</td><td>  69</td><td> 64</td><td>1</td><td>1</td></tr>\n",
       "\t<tr><th scope=row>2</th><td>2</td><td>ivysaur   </td><td>2</td><td>10</td><td> 130</td><td>142</td><td>2</td><td>1</td></tr>\n",
       "\t<tr><th scope=row>3</th><td>3</td><td>venusaur  </td><td>3</td><td>20</td><td>1000</td><td>236</td><td>3</td><td>1</td></tr>\n",
       "\t<tr><th scope=row>4</th><td>4</td><td>charmander</td><td>4</td><td> 6</td><td>  85</td><td> 62</td><td>5</td><td>1</td></tr>\n",
       "\t<tr><th scope=row>5</th><td>5</td><td>charmeleon</td><td>5</td><td>11</td><td> 190</td><td>142</td><td>6</td><td>1</td></tr>\n",
       "</tbody>\n",
       "</table>\n"
      ],
      "text/latex": [
       "A data.frame: 5 × 8\n",
       "\\begin{tabular}{r|llllllll}\n",
       "  & id & identifier & species\\_id & height & weight & base\\_experience & order & is\\_default\\\\\n",
       "  & <int> & <chr> & <int> & <int> & <int> & <int> & <int> & <int>\\\\\n",
       "\\hline\n",
       "\t1 & 1 & bulbasaur  & 1 &  7 &   69 &  64 & 1 & 1\\\\\n",
       "\t2 & 2 & ivysaur    & 2 & 10 &  130 & 142 & 2 & 1\\\\\n",
       "\t3 & 3 & venusaur   & 3 & 20 & 1000 & 236 & 3 & 1\\\\\n",
       "\t4 & 4 & charmander & 4 &  6 &   85 &  62 & 5 & 1\\\\\n",
       "\t5 & 5 & charmeleon & 5 & 11 &  190 & 142 & 6 & 1\\\\\n",
       "\\end{tabular}\n"
      ],
      "text/markdown": [
       "\n",
       "A data.frame: 5 × 8\n",
       "\n",
       "| <!--/--> | id &lt;int&gt; | identifier &lt;chr&gt; | species_id &lt;int&gt; | height &lt;int&gt; | weight &lt;int&gt; | base_experience &lt;int&gt; | order &lt;int&gt; | is_default &lt;int&gt; |\n",
       "|---|---|---|---|---|---|---|---|---|\n",
       "| 1 | 1 | bulbasaur  | 1 |  7 |   69 |  64 | 1 | 1 |\n",
       "| 2 | 2 | ivysaur    | 2 | 10 |  130 | 142 | 2 | 1 |\n",
       "| 3 | 3 | venusaur   | 3 | 20 | 1000 | 236 | 3 | 1 |\n",
       "| 4 | 4 | charmander | 4 |  6 |   85 |  62 | 5 | 1 |\n",
       "| 5 | 5 | charmeleon | 5 | 11 |  190 | 142 | 6 | 1 |\n",
       "\n"
      ],
      "text/plain": [
       "  id identifier species_id height weight base_experience order is_default\n",
       "1 1  bulbasaur  1           7       69    64             1     1         \n",
       "2 2  ivysaur    2          10      130   142             2     1         \n",
       "3 3  venusaur   3          20     1000   236             3     1         \n",
       "4 4  charmander 4           6       85    62             5     1         \n",
       "5 5  charmeleon 5          11      190   142             6     1         "
      ]
     },
     "metadata": {},
     "output_type": "display_data"
    }
   ],
   "source": [
    "query = \"SELECT * FROM pokemon;\"\n",
    "pokemon <- dbGetQuery(con, query)\n",
    "\n",
    "pokemon %>% head(5)"
   ]
  },
  {
   "cell_type": "code",
   "execution_count": 23,
   "id": "3be9f2ef-c09a-4bf4-8bee-2af8bcf632e9",
   "metadata": {},
   "outputs": [
    {
     "data": {
      "text/plain": [
       "[(0, 'id', 'INTEGER', 0, None, 0),\n",
       " (1, 'identifier', 'TEXT', 0, None, 0),\n",
       " (2, 'species_id', 'INTEGER', 0, None, 0),\n",
       " (3, 'height', 'INTEGER', 0, None, 0),\n",
       " (4, 'weight', 'INTEGER', 0, None, 0),\n",
       " (5, 'base_experience', 'INTEGER', 0, None, 0),\n",
       " (6, 'order', 'INTEGER', 0, None, 0),\n",
       " (7, 'is_default', 'INTEGER', 0, None, 0)]"
      ]
     },
     "execution_count": 23,
     "metadata": {},
     "output_type": "execute_result"
    }
   ],
   "source": [
    "cur = conn.cursor()\n",
    "\n",
    "list(cur.execute(\"PRAGMA table_info(pokemon);\"))"
   ]
  },
  {
   "cell_type": "code",
   "execution_count": 13,
   "id": "a9d4967e-1a3b-4605-bf90-454af7906a13",
   "metadata": {},
   "outputs": [
    {
     "name": "stderr",
     "output_type": "stream",
     "text": [
      "Warning message in connection_release(conn@ptr):\n",
      "“Already disconnected”\n"
     ]
    }
   ],
   "source": [
    "# Close the connection\n",
    "dbDisconnect(con)"
   ]
  },
  {
   "cell_type": "code",
   "execution_count": null,
   "id": "32fbc1de-e619-43fa-b695-19d05114f3d6",
   "metadata": {},
   "outputs": [],
   "source": []
  }
 ],
 "metadata": {
  "kernelspec": {
   "display_name": "R",
   "language": "R",
   "name": "ir"
  },
  "language_info": {
   "codemirror_mode": "r",
   "file_extension": ".r",
   "mimetype": "text/x-r-source",
   "name": "R",
   "pygments_lexer": "r",
   "version": "4.1.3"
  }
 },
 "nbformat": 4,
 "nbformat_minor": 5
}
